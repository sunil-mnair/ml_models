{
 "cells": [
  {
   "cell_type": "code",
   "execution_count": 19,
   "id": "0dd5d8f2-1bd2-4ccd-82c2-6bc5c5337373",
   "metadata": {},
   "outputs": [
    {
     "name": "stdout",
     "output_type": "stream",
     "text": [
      "Shape of tensor: torch.Size([])\n",
      "Datatype of tensor: torch.float32\n",
      "Device tensor is stored on: cpu\n"
     ]
    }
   ],
   "source": [
    "import torch\n",
    "import torch.nn as nn\n",
    "tensor = torch.tensor(4.)\n",
    "print(f\"Shape of tensor: {tensor.shape}\")\n",
    "print(f\"Datatype of tensor: {tensor.dtype}\")\n",
    "print(f\"Device tensor is stored on: {tensor.device}\")"
   ]
  },
  {
   "cell_type": "code",
   "execution_count": 8,
   "id": "4ea0c1e8-ebe3-4f69-a14e-1f829538bd82",
   "metadata": {},
   "outputs": [
    {
     "data": {
      "text/plain": [
       "torch.Size([5])"
      ]
     },
     "execution_count": 8,
     "metadata": {},
     "output_type": "execute_result"
    }
   ],
   "source": [
    "t2 = torch.tensor([4.0,1,2,3,5])\n",
    "t2.shape"
   ]
  },
  {
   "cell_type": "code",
   "execution_count": 9,
   "id": "234ab89a-5498-431e-9c9b-252ddb13ae57",
   "metadata": {},
   "outputs": [
    {
     "data": {
      "text/plain": [
       "tensor([4., 1., 2., 3., 5.])"
      ]
     },
     "execution_count": 9,
     "metadata": {},
     "output_type": "execute_result"
    }
   ],
   "source": [
    "t2"
   ]
  },
  {
   "cell_type": "code",
   "execution_count": 7,
   "id": "df8f9be2-33e1-4547-83bc-3aea7a041c6b",
   "metadata": {},
   "outputs": [
    {
     "name": "stdout",
     "output_type": "stream",
     "text": [
      "[4, 1, 2, 3, 5]\n"
     ]
    }
   ],
   "source": [
    "print(t2.tolist())"
   ]
  },
  {
   "cell_type": "code",
   "execution_count": 10,
   "id": "e69447aa-a1a1-4a3e-86b9-829ea897bb7d",
   "metadata": {},
   "outputs": [
    {
     "data": {
      "text/plain": [
       "tensor([[1, 2],\n",
       "        [3, 4]])"
      ]
     },
     "execution_count": 10,
     "metadata": {},
     "output_type": "execute_result"
    }
   ],
   "source": [
    "data = [[1, 2],[3, 4]]\n",
    "x_data = torch.tensor(data)\n",
    "x_data"
   ]
  },
  {
   "cell_type": "code",
   "execution_count": 16,
   "id": "77cb3ca8-0e7b-4ebd-83bf-30a32fca48f7",
   "metadata": {},
   "outputs": [
    {
     "name": "stdout",
     "output_type": "stream",
     "text": [
      "tensor([-1.3884,  0.4291,  0.4750])\n"
     ]
    }
   ],
   "source": [
    "input = torch.randn(3)\n",
    "print(input)"
   ]
  },
  {
   "cell_type": "code",
   "execution_count": 17,
   "id": "d31dedc4-1828-4ffb-ba61-f8a6ba67ae17",
   "metadata": {},
   "outputs": [
    {
     "name": "stdout",
     "output_type": "stream",
     "text": [
      "tensor([0.1997, 0.6057, 0.6166])\n"
     ]
    }
   ],
   "source": [
    "output = torch.sigmoid(input)\n",
    "\n",
    "print(output)"
   ]
  },
  {
   "cell_type": "code",
   "execution_count": 22,
   "id": "f2771960-5492-406f-a67e-f2094dac1bea",
   "metadata": {},
   "outputs": [
    {
     "name": "stdout",
     "output_type": "stream",
     "text": [
      "tensor([ 1.2007, -0.6231])\n"
     ]
    }
   ],
   "source": [
    "m = nn.ReLU() \n",
    "\n",
    "input = torch.randn(2) \n",
    "print(input) "
   ]
  },
  {
   "cell_type": "code",
   "execution_count": 23,
   "id": "aa816f0c-149d-469e-b3da-1625aef86e5a",
   "metadata": {},
   "outputs": [
    {
     "name": "stdout",
     "output_type": "stream",
     "text": [
      "tensor([1.2007, 0.0000])\n"
     ]
    }
   ],
   "source": [
    "output = m(input) \n",
    "print(output)"
   ]
  },
  {
   "cell_type": "code",
   "execution_count": 41,
   "id": "8d42fbfa-4839-42c3-9650-4ddbd83ef651",
   "metadata": {},
   "outputs": [],
   "source": [
    "import torch\n",
    "import torchvision\n",
    "\n",
    "from torchvision.datasets import MNIST\n",
    "from torchvision import transforms\n",
    "\n",
    "from torch.utils.data.dataloader import DataLoader # Creating Batches\n",
    "\n",
    "# import numpy as np\n",
    "import matplotlib.pyplot as plt\n",
    "# import pandas as pd\n",
    "\n",
    "# import torch.nn as nn\n",
    "# import torch.nn.functional as func\n",
    "# import torch.optim as optim\n",
    "\n",
    "# from torchvision import models\n",
    "# from torchsummary import summary\n"
   ]
  },
  {
   "cell_type": "code",
   "execution_count": 34,
   "id": "624cc4d7-2e30-4c07-bb7c-79e0503ed042",
   "metadata": {},
   "outputs": [],
   "source": [
    "datatensor = MNIST(root='data/',download=True,transform = transforms.ToTensor())\n",
    "testtensor = MNIST(root='data/',download=True,train=False,transform = transforms.ToTensor())"
   ]
  },
  {
   "cell_type": "code",
   "execution_count": 35,
   "id": "5b5eb869-81d9-4c4b-9a0b-d8d8570131ec",
   "metadata": {},
   "outputs": [
    {
     "name": "stdout",
     "output_type": "stream",
     "text": [
      "torch.Size([1, 28, 28]) 5\n"
     ]
    }
   ],
   "source": [
    "image,label = datatensor[0]\n",
    "print(image.shape,label)"
   ]
  },
  {
   "cell_type": "code",
   "execution_count": 45,
   "id": "fedb5709-4936-426b-8b12-b2d2517ac2d0",
   "metadata": {},
   "outputs": [
    {
     "data": {
      "text/plain": [
       "torch.Size([1, 28, 28])"
      ]
     },
     "execution_count": 45,
     "metadata": {},
     "output_type": "execute_result"
    }
   ],
   "source": [
    "image.shape"
   ]
  },
  {
   "cell_type": "code",
   "execution_count": 39,
   "id": "eec76d19-f50b-4b9a-a0ff-91c8a4a0e172",
   "metadata": {},
   "outputs": [
    {
     "data": {
      "image/png": "[encoded data removed]",
      "text/plain": [
       "<Figure size 432x288 with 24 Axes>"
      ]
     },
     "metadata": {},
     "output_type": "display_data"
    }
   ],
   "source": [
    "for i in range(24):\n",
    "  image,label=datatensor[i]\n",
    "  plt.subplot(4,6,i+1)\n",
    "  plt.tight_layout()\n",
    "  plt.imshow(image[0], cmap='gray', interpolation='none')\n",
    "  plt.title(f\"Number: {label}\")\n",
    "  plt.xticks([])\n",
    "  plt.yticks([])"
   ]
  },
  {
   "cell_type": "markdown",
   "id": "c05ab83c-e8f3-4cb6-a950-a5f62150285e",
   "metadata": {},
   "source": [
    "## Split Data"
   ]
  },
  {
   "cell_type": "code",
   "execution_count": 40,
   "id": "3bcda6e0-82dd-4e0a-89a9-9e0249a2a646",
   "metadata": {},
   "outputs": [],
   "source": [
    "train_set, val_set = torch.utils.data.random_split(datatensor, [50000, 10000])"
   ]
  },
  {
   "cell_type": "markdown",
   "id": "b4aca8f6-b51f-4d51-8258-91e7a5510418",
   "metadata": {},
   "source": [
    "## Creating Batches"
   ]
  },
  {
   "cell_type": "code",
   "execution_count": 42,
   "id": "73ad36e6-a643-4019-b6be-462f341fa68c",
   "metadata": {},
   "outputs": [],
   "source": [
    "batch_size = 100\n",
    "\n",
    "train_loader = DataLoader(train_set,batch_size) \n",
    "val_loader = DataLoader(val_set,batch_size)"
   ]
  },
  {
   "cell_type": "code",
   "execution_count": 47,
   "id": "eb79360a-f701-4ffa-8e7b-575f2e6886dd",
   "metadata": {},
   "outputs": [],
   "source": [
    "#model = nn.Linear(784, 10)\n",
    "\n",
    "class MnistModel(nn.Module):\n",
    "    def __init__(self):\n",
    "        super().__init__()\n",
    "        \n",
    "        # Add more Hidden Layers\n",
    "        \n",
    "        self.l1 = nn.Linear(784,10)\n",
    "\n",
    "    def forward(self,data):\n",
    "        data = data.reshape(-1,784)\n",
    "        \n",
    "        output = self.l1(data)\n",
    "\n",
    "        return output\n",
    "\n",
    "model = MnistModel()"
   ]
  },
  {
   "cell_type": "code",
   "execution_count": 50,
   "id": "649e5c4e-4c6f-4838-8259-c5f51becd579",
   "metadata": {},
   "outputs": [],
   "source": [
    "loss = nn.CrossEntropyLoss()"
   ]
  },
  {
   "cell_type": "code",
   "execution_count": 51,
   "id": "93c6ce03-ce41-421b-95f8-31fd28d5a790",
   "metadata": {},
   "outputs": [],
   "source": [
    "epochs = 3"
   ]
  },
  {
   "cell_type": "code",
   "execution_count": 52,
   "id": "0b4f8931-a810-465f-b3de-e089436d72a6",
   "metadata": {},
   "outputs": [],
   "source": [
    "for epoch in range(1,epochs+1):\n",
    "    \n",
    "    for images, labels in train_loader:\n",
    "        \n",
    "        # Logarithmic Values - Unnormalized Probabilities\n",
    "        logits = model(images)\n",
    "        \n",
    "        # Capturing the Loss in the Model\n",
    "        loss_obj = loss(logits,labels)\n",
    "        "
   ]
  },
  {
   "cell_type": "markdown",
   "id": "84ae0a66-6782-4182-a8eb-78b914e5a16b",
   "metadata": {},
   "source": [
    "## Test the Model"
   ]
  },
  {
   "cell_type": "code",
   "execution_count": 53,
   "id": "b7acec03-9e73-4926-81ae-81e1b1f91f9a",
   "metadata": {},
   "outputs": [],
   "source": [
    "test_batch_size = 100\n",
    "test_loader = DataLoader(testtensor,test_batch_size)"
   ]
  },
  {
   "cell_type": "code",
   "execution_count": 72,
   "id": "f506bf08-b06a-4468-9ead-9167bb930deb",
   "metadata": {},
   "outputs": [],
   "source": [
    "for images, labels in test_loader:\n",
    "    with torch.no_grad():\n",
    "        output = model(images)\n",
    "        break"
   ]
  },
  {
   "cell_type": "markdown",
   "id": "41d88648-ba56-439c-b093-315875cca64d",
   "metadata": {},
   "source": [
    "## Plot the Prediction"
   ]
  },
  {
   "cell_type": "code",
   "execution_count": 88,
   "id": "60f7145d-c15d-4e13-ad8c-4bdfabc60807",
   "metadata": {},
   "outputs": [
    {
     "data": {
      "text/plain": [
       "0"
      ]
     },
     "execution_count": 88,
     "metadata": {},
     "output_type": "execute_result"
    }
   ],
   "source": [
    "output.max(1)[1][0].item()"
   ]
  },
  {
   "cell_type": "code",
   "execution_count": 89,
   "id": "ba49cd74-fe4c-4f43-8031-eab86913873c",
   "metadata": {},
   "outputs": [
    {
     "data": {
      "image/png": "[encoded data removed]",
      "text/plain": [
       "<Figure size 432x288 with 12 Axes>"
      ]
     },
     "metadata": {},
     "output_type": "display_data"
    }
   ],
   "source": [
    "fig = plt.figure()\n",
    "for i in range(12):\n",
    "  plt.subplot(3,4,i+1)\n",
    "  plt.tight_layout()\n",
    "  plt.imshow(images[i][0], cmap='gray', interpolation='none')\n",
    "  plt.title(f\"Prediction: {output.max(1)[1][i].item()}\")\n",
    "\n",
    "  plt.xticks([])\n",
    "  plt.yticks([])"
   ]
  },
  {
   "cell_type": "code",
   "execution_count": null,
   "id": "14d8705a-d70f-4e85-ba0a-16adbe106954",
   "metadata": {},
   "outputs": [],
   "source": []
  }
 ],
 "metadata": {
  "kernelspec": {
   "display_name": "Python 3 (ipykernel)",
   "language": "python",
   "name": "python3"
  },
  "language_info": {
   "codemirror_mode": {
    "name": "ipython",
    "version": 3
   },
   "file_extension": ".py",
   "mimetype": "text/x-python",
   "name": "python",
   "nbconvert_exporter": "python",
   "pygments_lexer": "ipython3",
   "version": "3.9.7"
  }
 },
 "nbformat": 4,
 "nbformat_minor": 5
}
