{
 "cells": [
  {
   "cell_type": "code",
   "execution_count": 4,
   "id": "8de71fa9-0579-4e2a-ab02-5f13ed1874b6",
   "metadata": {},
   "outputs": [],
   "source": [
    "## https://spacy.io/usage"
   ]
  },
  {
   "cell_type": "code",
   "execution_count": 1,
   "id": "b0b1cc0c-9ab7-4c2a-b8c9-a8e43f7305d6",
   "metadata": {},
   "outputs": [],
   "source": [
    "import spacy"
   ]
  },
  {
   "cell_type": "code",
   "execution_count": 2,
   "id": "bead51d2-1577-4c2d-8781-a0c4dc4c5d2c",
   "metadata": {},
   "outputs": [],
   "source": [
    "nlp = spacy.load('en_core_web_sm')"
   ]
  },
  {
   "cell_type": "code",
   "execution_count": null,
   "id": "b31a6a60-f5cf-40e5-804a-d20ee55d66c8",
   "metadata": {},
   "outputs": [],
   "source": [
    "# A lot of wikipedia data gets included in Wikipedia results"
   ]
  },
  {
   "cell_type": "code",
   "execution_count": 46,
   "id": "30831435-f657-44d2-8265-3b9ff104d705",
   "metadata": {},
   "outputs": [],
   "source": [
    "doc = nlp('''Cricket has been the most popular sport in India, it is played almost everywhere in the country[4][unreliable source?] and a prominent part of the country. The Board of Control for Cricket in India (BCCI) is the governing body of Indian cricket and conduct all domestic tournaments and select the players for India national cricket team and India women's national cricket team.\n",
    "\n",
    "Domestic competitions in India annually organized by BCCI include the Ranji Trophy, the Duleep Trophy, the Vijay Hazare Trophy, the Deodhar Trophy, the Irani Trophy and the NKP Salve Challenger Trophy. The Indian Premier League, a Twenty20 tournament where various city-based franchises compete in a style similar to American football, is one of the biggest sporting leagues and the biggest cricketing league in the world. In 2023 it launched a similar league for females, the Women's Premier League (WPL).\n",
    "\n",
    "International cricket in India does not follow a consistent pattern, unlike other cricketing teams such as England, who tour other countries during the winter and play at home during the summer. The Indian cricket team is one of the most successful cricket teams in the world, having won 2 ICC World Cups, 1 ICC World Twenty20, 2 ICC Champion's Trophies and finished runners up in the inaugural edition of the ICC World Test Championship. The 2021 ICC Men's T20 World Cup, was initially meant to be hosted by India. However, after the escalation of the COVID-19 Pandemic in India, the tournament was moved by the ICC to the United Arab Emirates. The 2023 Cricket World Cup will be hosted by India''')"
   ]
  },
  {
   "cell_type": "code",
   "execution_count": 8,
   "id": "49062af9-1644-4362-b213-cae4f5cbaf6b",
   "metadata": {},
   "outputs": [
    {
     "name": "stdout",
     "output_type": "stream",
     "text": [
      "Cricket\n",
      "has\n",
      "been\n",
      "the\n",
      "most\n",
      "popular\n",
      "sport\n",
      "in\n",
      "India\n",
      ",\n",
      "it\n",
      "is\n",
      "played\n",
      "almost\n",
      "everywhere\n",
      "in\n",
      "the\n",
      "country[4][unreliable\n",
      "source\n",
      "?\n"
     ]
    }
   ],
   "source": [
    "for token in doc[0:20]:\n",
    "    print(token)\n",
    "    \n",
    "# Seperates Punctuation Marks"
   ]
  },
  {
   "cell_type": "code",
   "execution_count": 9,
   "id": "5ef65829-308b-406f-89a2-c4bdf424426c",
   "metadata": {},
   "outputs": [],
   "source": [
    "## Sentence Boundary Detection"
   ]
  },
  {
   "cell_type": "code",
   "execution_count": 11,
   "id": "eeb8871e-75ca-4c37-ba86-5dffa5dc6215",
   "metadata": {},
   "outputs": [
    {
     "name": "stdout",
     "output_type": "stream",
     "text": [
      "1 Cricket has been the most popular sport in India, it is played almost everywhere in the country[4][unreliable source?] and a prominent part of the country.\n",
      "2 The Board of Control for Cricket in India (BCCI) is the governing body of Indian cricket and conduct all domestic tournaments and select the players for India national cricket team and India women's national cricket team.\n"
     ]
    }
   ],
   "source": [
    "for x,sent in enumerate(doc.sents,start=1):\n",
    "    print(x,sent)"
   ]
  },
  {
   "cell_type": "code",
   "execution_count": null,
   "id": "52216cd8-7dec-4fc1-b9f0-4a21e64add62",
   "metadata": {},
   "outputs": [],
   "source": [
    "# Tokens have metadata"
   ]
  },
  {
   "cell_type": "code",
   "execution_count": 12,
   "id": "6edf81ad-1414-4c69-8b13-f7005f4b2a12",
   "metadata": {},
   "outputs": [],
   "source": [
    "sentence1 = list(doc.sents)[0]"
   ]
  },
  {
   "cell_type": "code",
   "execution_count": 13,
   "id": "ed412e66-fa91-40d8-86bf-24d1f8b80bf8",
   "metadata": {},
   "outputs": [
    {
     "data": {
      "text/plain": [
       "Cricket has been the most popular sport in India, it is played almost everywhere in the country[4][unreliable source?] and a prominent part of the country."
      ]
     },
     "execution_count": 13,
     "metadata": {},
     "output_type": "execute_result"
    }
   ],
   "source": [
    "sentence1"
   ]
  },
  {
   "cell_type": "code",
   "execution_count": 23,
   "id": "b1d11be4-308a-4089-ad4c-8653ee16f10e",
   "metadata": {},
   "outputs": [],
   "source": [
    "token_meta = sentence1[8]"
   ]
  },
  {
   "cell_type": "code",
   "execution_count": 24,
   "id": "7340a7d7-5206-4af6-b4ab-337d40b96e49",
   "metadata": {},
   "outputs": [
    {
     "data": {
      "text/plain": [
       "India"
      ]
     },
     "execution_count": 24,
     "metadata": {},
     "output_type": "execute_result"
    }
   ],
   "source": [
    "token_meta"
   ]
  },
  {
   "cell_type": "code",
   "execution_count": 16,
   "id": "f6043eac-9bc0-48bc-8dc7-117ea8ea441f",
   "metadata": {},
   "outputs": [
    {
     "data": {
      "text/plain": [
       "'Cricket'"
      ]
     },
     "execution_count": 16,
     "metadata": {},
     "output_type": "execute_result"
    }
   ],
   "source": [
    "token_meta.text"
   ]
  },
  {
   "cell_type": "code",
   "execution_count": 25,
   "id": "b05fa308-d10f-4837-881c-a7a1445b1aa8",
   "metadata": {},
   "outputs": [
    {
     "data": {
      "text/plain": [
       "India"
      ]
     },
     "execution_count": 25,
     "metadata": {},
     "output_type": "execute_result"
    }
   ],
   "source": [
    "token_meta.left_edge"
   ]
  },
  {
   "cell_type": "code",
   "execution_count": 26,
   "id": "8e8bb24e-b131-4585-bff8-883f0d0c1db5",
   "metadata": {},
   "outputs": [
    {
     "data": {
      "text/plain": [
       "India"
      ]
     },
     "execution_count": 26,
     "metadata": {},
     "output_type": "execute_result"
    }
   ],
   "source": [
    "token_meta.right_edge"
   ]
  },
  {
   "cell_type": "code",
   "execution_count": 27,
   "id": "04f6a9e0-7999-4762-9dd1-8a00dd7a14b3",
   "metadata": {},
   "outputs": [
    {
     "data": {
      "text/plain": [
       "'GPE'"
      ]
     },
     "execution_count": 27,
     "metadata": {},
     "output_type": "execute_result"
    }
   ],
   "source": [
    "token_meta.ent_type_\n",
    "# GeoPoliticalEntity"
   ]
  },
  {
   "cell_type": "code",
   "execution_count": 29,
   "id": "0b7eb3d1-fad3-4595-be2c-2dc1eb787701",
   "metadata": {},
   "outputs": [
    {
     "data": {
      "text/plain": [
       "'B'"
      ]
     },
     "execution_count": 29,
     "metadata": {},
     "output_type": "execute_result"
    }
   ],
   "source": [
    "token_meta.ent_iob_\n",
    "# B - Beggining\n",
    "# I - Inside"
   ]
  },
  {
   "cell_type": "code",
   "execution_count": 30,
   "id": "1f7ce46c-2e8e-4e68-975c-47ab205aba27",
   "metadata": {},
   "outputs": [
    {
     "data": {
      "text/plain": [
       "'India'"
      ]
     },
     "execution_count": 30,
     "metadata": {},
     "output_type": "execute_result"
    }
   ],
   "source": [
    "token_meta.lemma_\n",
    "# Verb"
   ]
  },
  {
   "cell_type": "code",
   "execution_count": 31,
   "id": "5e4f7c2c-12be-463b-b7d2-68b2f9d4a7fb",
   "metadata": {},
   "outputs": [
    {
     "data": {
      "text/plain": [
       "Number=Sing"
      ]
     },
     "execution_count": 31,
     "metadata": {},
     "output_type": "execute_result"
    }
   ],
   "source": [
    "token_meta.morph"
   ]
  },
  {
   "cell_type": "code",
   "execution_count": 32,
   "id": "ce56fe03-b44e-435b-bfa7-f4ae9c5540cc",
   "metadata": {},
   "outputs": [
    {
     "data": {
      "text/plain": [
       "'PROPN'"
      ]
     },
     "execution_count": 32,
     "metadata": {},
     "output_type": "execute_result"
    }
   ],
   "source": [
    "token_meta.pos_"
   ]
  },
  {
   "cell_type": "code",
   "execution_count": 33,
   "id": "1220c223-2d36-43cb-b703-d6b7708668b6",
   "metadata": {},
   "outputs": [
    {
     "data": {
      "text/plain": [
       "'pobj'"
      ]
     },
     "execution_count": 33,
     "metadata": {},
     "output_type": "execute_result"
    }
   ],
   "source": [
    "token_meta.dep_"
   ]
  },
  {
   "cell_type": "code",
   "execution_count": 34,
   "id": "243000e8-9215-4ed4-a74f-45f0ad1cacb2",
   "metadata": {},
   "outputs": [
    {
     "data": {
      "text/plain": [
       "'en'"
      ]
     },
     "execution_count": 34,
     "metadata": {},
     "output_type": "execute_result"
    }
   ],
   "source": [
    "token_meta.lang_"
   ]
  },
  {
   "cell_type": "code",
   "execution_count": 35,
   "id": "74fb9050-7aec-468c-ab12-392ac99c013c",
   "metadata": {},
   "outputs": [],
   "source": [
    "## Part of Speech Tagging"
   ]
  },
  {
   "cell_type": "code",
   "execution_count": 36,
   "id": "212662a5-75ab-49a5-95a2-3f33bea83fe2",
   "metadata": {},
   "outputs": [],
   "source": [
    "text =\"Mike enjoys playing football.\"\n",
    "\n",
    "doc2 = nlp(text)\n"
   ]
  },
  {
   "cell_type": "code",
   "execution_count": 38,
   "id": "6f140340-83a6-4bcc-a204-32315d5489dd",
   "metadata": {},
   "outputs": [
    {
     "name": "stdout",
     "output_type": "stream",
     "text": [
      "Mike PROPN nsubj\n",
      "enjoys VERB ROOT\n",
      "playing VERB xcomp\n",
      "football NOUN dobj\n",
      ". PUNCT punct\n"
     ]
    }
   ],
   "source": [
    "for token in doc2:\n",
    "    print(token.text,token.pos_,token.dep_)"
   ]
  },
  {
   "cell_type": "code",
   "execution_count": 40,
   "id": "68949b83-43b9-4e79-88c4-cdcdf33aa7b4",
   "metadata": {},
   "outputs": [
    {
     "data": {
      "text/html": [
       "<span class=\"tex2jax_ignore\"><svg xmlns=\"http://www.w3.org/2000/svg\" xmlns:xlink=\"http://www.w3.org/1999/xlink\" xml:lang=\"en\" id=\"596e107f3615453d95169a1183c615a9-0\" class=\"displacy\" width=\"750\" height=\"224.5\" direction=\"ltr\" style=\"max-width: none; height: 224.5px; color: #000000; background: #ffffff; font-family: Arial; direction: ltr\">\n",
       "<text class=\"displacy-token\" fill=\"currentColor\" text-anchor=\"middle\" y=\"134.5\">\n",
       "    <tspan class=\"displacy-word\" fill=\"currentColor\" x=\"50\">Mike</tspan>\n",
       "    <tspan class=\"displacy-tag\" dy=\"2em\" fill=\"currentColor\" x=\"50\">PROPN</tspan>\n",
       "</text>\n",
       "\n",
       "<text class=\"displacy-token\" fill=\"currentColor\" text-anchor=\"middle\" y=\"134.5\">\n",
       "    <tspan class=\"displacy-word\" fill=\"currentColor\" x=\"225\">enjoys</tspan>\n",
       "    <tspan class=\"displacy-tag\" dy=\"2em\" fill=\"currentColor\" x=\"225\">VERB</tspan>\n",
       "</text>\n",
       "\n",
       "<text class=\"displacy-token\" fill=\"currentColor\" text-anchor=\"middle\" y=\"134.5\">\n",
       "    <tspan class=\"displacy-word\" fill=\"currentColor\" x=\"400\">playing</tspan>\n",
       "    <tspan class=\"displacy-tag\" dy=\"2em\" fill=\"currentColor\" x=\"400\">VERB</tspan>\n",
       "</text>\n",
       "\n",
       "<text class=\"displacy-token\" fill=\"currentColor\" text-anchor=\"middle\" y=\"134.5\">\n",
       "    <tspan class=\"displacy-word\" fill=\"currentColor\" x=\"575\">football.</tspan>\n",
       "    <tspan class=\"displacy-tag\" dy=\"2em\" fill=\"currentColor\" x=\"575\">NOUN</tspan>\n",
       "</text>\n",
       "\n",
       "<g class=\"displacy-arrow\">\n",
       "    <path class=\"displacy-arc\" id=\"arrow-596e107f3615453d95169a1183c615a9-0-0\" stroke-width=\"2px\" d=\"M70,89.5 C70,2.0 225.0,2.0 225.0,89.5\" fill=\"none\" stroke=\"currentColor\"/>\n",
       "    <text dy=\"1.25em\" style=\"font-size: 0.8em; letter-spacing: 1px\">\n",
       "        <textPath xlink:href=\"#arrow-596e107f3615453d95169a1183c615a9-0-0\" class=\"displacy-label\" startOffset=\"50%\" side=\"left\" fill=\"currentColor\" text-anchor=\"middle\">nsubj</textPath>\n",
       "    </text>\n",
       "    <path class=\"displacy-arrowhead\" d=\"M70,91.5 L62,79.5 78,79.5\" fill=\"currentColor\"/>\n",
       "</g>\n",
       "\n",
       "<g class=\"displacy-arrow\">\n",
       "    <path class=\"displacy-arc\" id=\"arrow-596e107f3615453d95169a1183c615a9-0-1\" stroke-width=\"2px\" d=\"M245,89.5 C245,2.0 400.0,2.0 400.0,89.5\" fill=\"none\" stroke=\"currentColor\"/>\n",
       "    <text dy=\"1.25em\" style=\"font-size: 0.8em; letter-spacing: 1px\">\n",
       "        <textPath xlink:href=\"#arrow-596e107f3615453d95169a1183c615a9-0-1\" class=\"displacy-label\" startOffset=\"50%\" side=\"left\" fill=\"currentColor\" text-anchor=\"middle\">xcomp</textPath>\n",
       "    </text>\n",
       "    <path class=\"displacy-arrowhead\" d=\"M400.0,91.5 L408.0,79.5 392.0,79.5\" fill=\"currentColor\"/>\n",
       "</g>\n",
       "\n",
       "<g class=\"displacy-arrow\">\n",
       "    <path class=\"displacy-arc\" id=\"arrow-596e107f3615453d95169a1183c615a9-0-2\" stroke-width=\"2px\" d=\"M420,89.5 C420,2.0 575.0,2.0 575.0,89.5\" fill=\"none\" stroke=\"currentColor\"/>\n",
       "    <text dy=\"1.25em\" style=\"font-size: 0.8em; letter-spacing: 1px\">\n",
       "        <textPath xlink:href=\"#arrow-596e107f3615453d95169a1183c615a9-0-2\" class=\"displacy-label\" startOffset=\"50%\" side=\"left\" fill=\"currentColor\" text-anchor=\"middle\">dobj</textPath>\n",
       "    </text>\n",
       "    <path class=\"displacy-arrowhead\" d=\"M575.0,91.5 L583.0,79.5 567.0,79.5\" fill=\"currentColor\"/>\n",
       "</g>\n",
       "</svg></span>"
      ],
      "text/plain": [
       "<IPython.core.display.HTML object>"
      ]
     },
     "metadata": {},
     "output_type": "display_data"
    }
   ],
   "source": [
    "from spacy import displacy\n",
    "displacy.render(doc2,style=\"dep\")"
   ]
  },
  {
   "cell_type": "code",
   "execution_count": 41,
   "id": "4dcf1a52-8c48-425b-b66c-c0ce6bc58ff7",
   "metadata": {},
   "outputs": [],
   "source": [
    "# Named Entity Recognition"
   ]
  },
  {
   "cell_type": "code",
   "execution_count": 47,
   "id": "c453ae8c-914b-411c-a64f-74b5d5f4b927",
   "metadata": {},
   "outputs": [
    {
     "name": "stdout",
     "output_type": "stream",
     "text": [
      "India GPE\n",
      "The Board of Control for Cricket ORG\n",
      "India GPE\n",
      "BCCI ORG\n",
      "Indian NORP\n",
      "India GPE\n",
      "India GPE\n",
      "India GPE\n",
      "annually DATE\n",
      "BCCI ORG\n",
      "the Ranji Trophy ORG\n",
      "the Duleep Trophy ORG\n",
      "the Vijay Hazare Trophy ORG\n",
      "the Deodhar Trophy ORG\n",
      "the Irani Trophy ORG\n",
      "Trophy PERSON\n",
      "Indian NORP\n",
      "Twenty20 PERSON\n",
      "American NORP\n",
      "2023 DATE\n",
      "WPL ORG\n",
      "India GPE\n",
      "England GPE\n",
      "the summer DATE\n",
      "Indian NORP\n",
      "2 CARDINAL\n",
      "World Cups ORG\n",
      "1 CARDINAL\n",
      "the ICC World Test Championship ORG\n",
      "2021 DATE\n",
      "World Cup EVENT\n",
      "India GPE\n",
      "India GPE\n",
      "ICC ORG\n",
      "the United Arab Emirates GPE\n",
      "2023 DATE\n",
      "Cricket World Cup EVENT\n",
      "India GPE\n"
     ]
    }
   ],
   "source": [
    "for ent in doc.ents:\n",
    "    print(ent.text,ent.label_)"
   ]
  },
  {
   "cell_type": "code",
   "execution_count": 48,
   "id": "e7e14754-5e80-4c14-acb6-6c9f3fcbe560",
   "metadata": {},
   "outputs": [
    {
     "data": {
      "text/html": [
       "<span class=\"tex2jax_ignore\"><div class=\"entities\" style=\"line-height: 2.5; direction: ltr\">Cricket has been the most popular sport in \n",
       "<mark class=\"entity\" style=\"background: #feca74; padding: 0.45em 0.6em; margin: 0 0.25em; line-height: 1; border-radius: 0.35em;\">\n",
       "    India\n",
       "    <span style=\"font-size: 0.8em; font-weight: bold; line-height: 1; border-radius: 0.35em; vertical-align: middle; margin-left: 0.5rem\">GPE</span>\n",
       "</mark>\n",
       ", it is played almost everywhere in the country[4][unreliable source?] and a prominent part of the country. \n",
       "<mark class=\"entity\" style=\"background: #7aecec; padding: 0.45em 0.6em; margin: 0 0.25em; line-height: 1; border-radius: 0.35em;\">\n",
       "    The Board of Control for Cricket\n",
       "    <span style=\"font-size: 0.8em; font-weight: bold; line-height: 1; border-radius: 0.35em; vertical-align: middle; margin-left: 0.5rem\">ORG</span>\n",
       "</mark>\n",
       " in \n",
       "<mark class=\"entity\" style=\"background: #feca74; padding: 0.45em 0.6em; margin: 0 0.25em; line-height: 1; border-radius: 0.35em;\">\n",
       "    India\n",
       "    <span style=\"font-size: 0.8em; font-weight: bold; line-height: 1; border-radius: 0.35em; vertical-align: middle; margin-left: 0.5rem\">GPE</span>\n",
       "</mark>\n",
       " (\n",
       "<mark class=\"entity\" style=\"background: #7aecec; padding: 0.45em 0.6em; margin: 0 0.25em; line-height: 1; border-radius: 0.35em;\">\n",
       "    BCCI\n",
       "    <span style=\"font-size: 0.8em; font-weight: bold; line-height: 1; border-radius: 0.35em; vertical-align: middle; margin-left: 0.5rem\">ORG</span>\n",
       "</mark>\n",
       ") is the governing body of \n",
       "<mark class=\"entity\" style=\"background: #c887fb; padding: 0.45em 0.6em; margin: 0 0.25em; line-height: 1; border-radius: 0.35em;\">\n",
       "    Indian\n",
       "    <span style=\"font-size: 0.8em; font-weight: bold; line-height: 1; border-radius: 0.35em; vertical-align: middle; margin-left: 0.5rem\">NORP</span>\n",
       "</mark>\n",
       " cricket and conduct all domestic tournaments and select the players for \n",
       "<mark class=\"entity\" style=\"background: #feca74; padding: 0.45em 0.6em; margin: 0 0.25em; line-height: 1; border-radius: 0.35em;\">\n",
       "    India\n",
       "    <span style=\"font-size: 0.8em; font-weight: bold; line-height: 1; border-radius: 0.35em; vertical-align: middle; margin-left: 0.5rem\">GPE</span>\n",
       "</mark>\n",
       " national cricket team and \n",
       "<mark class=\"entity\" style=\"background: #feca74; padding: 0.45em 0.6em; margin: 0 0.25em; line-height: 1; border-radius: 0.35em;\">\n",
       "    India\n",
       "    <span style=\"font-size: 0.8em; font-weight: bold; line-height: 1; border-radius: 0.35em; vertical-align: middle; margin-left: 0.5rem\">GPE</span>\n",
       "</mark>\n",
       " women's national cricket team.</br></br>Domestic competitions in \n",
       "<mark class=\"entity\" style=\"background: #feca74; padding: 0.45em 0.6em; margin: 0 0.25em; line-height: 1; border-radius: 0.35em;\">\n",
       "    India\n",
       "    <span style=\"font-size: 0.8em; font-weight: bold; line-height: 1; border-radius: 0.35em; vertical-align: middle; margin-left: 0.5rem\">GPE</span>\n",
       "</mark>\n",
       " \n",
       "<mark class=\"entity\" style=\"background: #bfe1d9; padding: 0.45em 0.6em; margin: 0 0.25em; line-height: 1; border-radius: 0.35em;\">\n",
       "    annually\n",
       "    <span style=\"font-size: 0.8em; font-weight: bold; line-height: 1; border-radius: 0.35em; vertical-align: middle; margin-left: 0.5rem\">DATE</span>\n",
       "</mark>\n",
       " organized by \n",
       "<mark class=\"entity\" style=\"background: #7aecec; padding: 0.45em 0.6em; margin: 0 0.25em; line-height: 1; border-radius: 0.35em;\">\n",
       "    BCCI\n",
       "    <span style=\"font-size: 0.8em; font-weight: bold; line-height: 1; border-radius: 0.35em; vertical-align: middle; margin-left: 0.5rem\">ORG</span>\n",
       "</mark>\n",
       " include \n",
       "<mark class=\"entity\" style=\"background: #7aecec; padding: 0.45em 0.6em; margin: 0 0.25em; line-height: 1; border-radius: 0.35em;\">\n",
       "    the Ranji Trophy\n",
       "    <span style=\"font-size: 0.8em; font-weight: bold; line-height: 1; border-radius: 0.35em; vertical-align: middle; margin-left: 0.5rem\">ORG</span>\n",
       "</mark>\n",
       ", \n",
       "<mark class=\"entity\" style=\"background: #7aecec; padding: 0.45em 0.6em; margin: 0 0.25em; line-height: 1; border-radius: 0.35em;\">\n",
       "    the Duleep Trophy\n",
       "    <span style=\"font-size: 0.8em; font-weight: bold; line-height: 1; border-radius: 0.35em; vertical-align: middle; margin-left: 0.5rem\">ORG</span>\n",
       "</mark>\n",
       ", \n",
       "<mark class=\"entity\" style=\"background: #7aecec; padding: 0.45em 0.6em; margin: 0 0.25em; line-height: 1; border-radius: 0.35em;\">\n",
       "    the Vijay Hazare Trophy\n",
       "    <span style=\"font-size: 0.8em; font-weight: bold; line-height: 1; border-radius: 0.35em; vertical-align: middle; margin-left: 0.5rem\">ORG</span>\n",
       "</mark>\n",
       ", \n",
       "<mark class=\"entity\" style=\"background: #7aecec; padding: 0.45em 0.6em; margin: 0 0.25em; line-height: 1; border-radius: 0.35em;\">\n",
       "    the Deodhar Trophy\n",
       "    <span style=\"font-size: 0.8em; font-weight: bold; line-height: 1; border-radius: 0.35em; vertical-align: middle; margin-left: 0.5rem\">ORG</span>\n",
       "</mark>\n",
       ", \n",
       "<mark class=\"entity\" style=\"background: #7aecec; padding: 0.45em 0.6em; margin: 0 0.25em; line-height: 1; border-radius: 0.35em;\">\n",
       "    the Irani Trophy\n",
       "    <span style=\"font-size: 0.8em; font-weight: bold; line-height: 1; border-radius: 0.35em; vertical-align: middle; margin-left: 0.5rem\">ORG</span>\n",
       "</mark>\n",
       " and the NKP Salve Challenger \n",
       "<mark class=\"entity\" style=\"background: #aa9cfc; padding: 0.45em 0.6em; margin: 0 0.25em; line-height: 1; border-radius: 0.35em;\">\n",
       "    Trophy\n",
       "    <span style=\"font-size: 0.8em; font-weight: bold; line-height: 1; border-radius: 0.35em; vertical-align: middle; margin-left: 0.5rem\">PERSON</span>\n",
       "</mark>\n",
       ". The \n",
       "<mark class=\"entity\" style=\"background: #c887fb; padding: 0.45em 0.6em; margin: 0 0.25em; line-height: 1; border-radius: 0.35em;\">\n",
       "    Indian\n",
       "    <span style=\"font-size: 0.8em; font-weight: bold; line-height: 1; border-radius: 0.35em; vertical-align: middle; margin-left: 0.5rem\">NORP</span>\n",
       "</mark>\n",
       " Premier League, a \n",
       "<mark class=\"entity\" style=\"background: #aa9cfc; padding: 0.45em 0.6em; margin: 0 0.25em; line-height: 1; border-radius: 0.35em;\">\n",
       "    Twenty20\n",
       "    <span style=\"font-size: 0.8em; font-weight: bold; line-height: 1; border-radius: 0.35em; vertical-align: middle; margin-left: 0.5rem\">PERSON</span>\n",
       "</mark>\n",
       " tournament where various city-based franchises compete in a style similar to \n",
       "<mark class=\"entity\" style=\"background: #c887fb; padding: 0.45em 0.6em; margin: 0 0.25em; line-height: 1; border-radius: 0.35em;\">\n",
       "    American\n",
       "    <span style=\"font-size: 0.8em; font-weight: bold; line-height: 1; border-radius: 0.35em; vertical-align: middle; margin-left: 0.5rem\">NORP</span>\n",
       "</mark>\n",
       " football, is one of the biggest sporting leagues and the biggest cricketing league in the world. In \n",
       "<mark class=\"entity\" style=\"background: #bfe1d9; padding: 0.45em 0.6em; margin: 0 0.25em; line-height: 1; border-radius: 0.35em;\">\n",
       "    2023\n",
       "    <span style=\"font-size: 0.8em; font-weight: bold; line-height: 1; border-radius: 0.35em; vertical-align: middle; margin-left: 0.5rem\">DATE</span>\n",
       "</mark>\n",
       " it launched a similar league for females, the Women's Premier League (\n",
       "<mark class=\"entity\" style=\"background: #7aecec; padding: 0.45em 0.6em; margin: 0 0.25em; line-height: 1; border-radius: 0.35em;\">\n",
       "    WPL\n",
       "    <span style=\"font-size: 0.8em; font-weight: bold; line-height: 1; border-radius: 0.35em; vertical-align: middle; margin-left: 0.5rem\">ORG</span>\n",
       "</mark>\n",
       ").</br></br>International cricket in \n",
       "<mark class=\"entity\" style=\"background: #feca74; padding: 0.45em 0.6em; margin: 0 0.25em; line-height: 1; border-radius: 0.35em;\">\n",
       "    India\n",
       "    <span style=\"font-size: 0.8em; font-weight: bold; line-height: 1; border-radius: 0.35em; vertical-align: middle; margin-left: 0.5rem\">GPE</span>\n",
       "</mark>\n",
       " does not follow a consistent pattern, unlike other cricketing teams such as \n",
       "<mark class=\"entity\" style=\"background: #feca74; padding: 0.45em 0.6em; margin: 0 0.25em; line-height: 1; border-radius: 0.35em;\">\n",
       "    England\n",
       "    <span style=\"font-size: 0.8em; font-weight: bold; line-height: 1; border-radius: 0.35em; vertical-align: middle; margin-left: 0.5rem\">GPE</span>\n",
       "</mark>\n",
       ", who tour other countries during the winter and play at home during \n",
       "<mark class=\"entity\" style=\"background: #bfe1d9; padding: 0.45em 0.6em; margin: 0 0.25em; line-height: 1; border-radius: 0.35em;\">\n",
       "    the summer\n",
       "    <span style=\"font-size: 0.8em; font-weight: bold; line-height: 1; border-radius: 0.35em; vertical-align: middle; margin-left: 0.5rem\">DATE</span>\n",
       "</mark>\n",
       ". The \n",
       "<mark class=\"entity\" style=\"background: #c887fb; padding: 0.45em 0.6em; margin: 0 0.25em; line-height: 1; border-radius: 0.35em;\">\n",
       "    Indian\n",
       "    <span style=\"font-size: 0.8em; font-weight: bold; line-height: 1; border-radius: 0.35em; vertical-align: middle; margin-left: 0.5rem\">NORP</span>\n",
       "</mark>\n",
       " cricket team is one of the most successful cricket teams in the world, having won \n",
       "<mark class=\"entity\" style=\"background: #e4e7d2; padding: 0.45em 0.6em; margin: 0 0.25em; line-height: 1; border-radius: 0.35em;\">\n",
       "    2\n",
       "    <span style=\"font-size: 0.8em; font-weight: bold; line-height: 1; border-radius: 0.35em; vertical-align: middle; margin-left: 0.5rem\">CARDINAL</span>\n",
       "</mark>\n",
       " ICC \n",
       "<mark class=\"entity\" style=\"background: #7aecec; padding: 0.45em 0.6em; margin: 0 0.25em; line-height: 1; border-radius: 0.35em;\">\n",
       "    World Cups\n",
       "    <span style=\"font-size: 0.8em; font-weight: bold; line-height: 1; border-radius: 0.35em; vertical-align: middle; margin-left: 0.5rem\">ORG</span>\n",
       "</mark>\n",
       ", \n",
       "<mark class=\"entity\" style=\"background: #e4e7d2; padding: 0.45em 0.6em; margin: 0 0.25em; line-height: 1; border-radius: 0.35em;\">\n",
       "    1\n",
       "    <span style=\"font-size: 0.8em; font-weight: bold; line-height: 1; border-radius: 0.35em; vertical-align: middle; margin-left: 0.5rem\">CARDINAL</span>\n",
       "</mark>\n",
       " ICC World Twenty20, 2 ICC Champion's Trophies and finished runners up in the inaugural edition of \n",
       "<mark class=\"entity\" style=\"background: #7aecec; padding: 0.45em 0.6em; margin: 0 0.25em; line-height: 1; border-radius: 0.35em;\">\n",
       "    the ICC World Test Championship\n",
       "    <span style=\"font-size: 0.8em; font-weight: bold; line-height: 1; border-radius: 0.35em; vertical-align: middle; margin-left: 0.5rem\">ORG</span>\n",
       "</mark>\n",
       ". The \n",
       "<mark class=\"entity\" style=\"background: #bfe1d9; padding: 0.45em 0.6em; margin: 0 0.25em; line-height: 1; border-radius: 0.35em;\">\n",
       "    2021\n",
       "    <span style=\"font-size: 0.8em; font-weight: bold; line-height: 1; border-radius: 0.35em; vertical-align: middle; margin-left: 0.5rem\">DATE</span>\n",
       "</mark>\n",
       " ICC Men's T20 \n",
       "<mark class=\"entity\" style=\"background: #ffeb80; padding: 0.45em 0.6em; margin: 0 0.25em; line-height: 1; border-radius: 0.35em;\">\n",
       "    World Cup\n",
       "    <span style=\"font-size: 0.8em; font-weight: bold; line-height: 1; border-radius: 0.35em; vertical-align: middle; margin-left: 0.5rem\">EVENT</span>\n",
       "</mark>\n",
       ", was initially meant to be hosted by \n",
       "<mark class=\"entity\" style=\"background: #feca74; padding: 0.45em 0.6em; margin: 0 0.25em; line-height: 1; border-radius: 0.35em;\">\n",
       "    India\n",
       "    <span style=\"font-size: 0.8em; font-weight: bold; line-height: 1; border-radius: 0.35em; vertical-align: middle; margin-left: 0.5rem\">GPE</span>\n",
       "</mark>\n",
       ". However, after the escalation of the COVID-19 Pandemic in \n",
       "<mark class=\"entity\" style=\"background: #feca74; padding: 0.45em 0.6em; margin: 0 0.25em; line-height: 1; border-radius: 0.35em;\">\n",
       "    India\n",
       "    <span style=\"font-size: 0.8em; font-weight: bold; line-height: 1; border-radius: 0.35em; vertical-align: middle; margin-left: 0.5rem\">GPE</span>\n",
       "</mark>\n",
       ", the tournament was moved by the \n",
       "<mark class=\"entity\" style=\"background: #7aecec; padding: 0.45em 0.6em; margin: 0 0.25em; line-height: 1; border-radius: 0.35em;\">\n",
       "    ICC\n",
       "    <span style=\"font-size: 0.8em; font-weight: bold; line-height: 1; border-radius: 0.35em; vertical-align: middle; margin-left: 0.5rem\">ORG</span>\n",
       "</mark>\n",
       " to \n",
       "<mark class=\"entity\" style=\"background: #feca74; padding: 0.45em 0.6em; margin: 0 0.25em; line-height: 1; border-radius: 0.35em;\">\n",
       "    the United Arab Emirates\n",
       "    <span style=\"font-size: 0.8em; font-weight: bold; line-height: 1; border-radius: 0.35em; vertical-align: middle; margin-left: 0.5rem\">GPE</span>\n",
       "</mark>\n",
       ". The \n",
       "<mark class=\"entity\" style=\"background: #bfe1d9; padding: 0.45em 0.6em; margin: 0 0.25em; line-height: 1; border-radius: 0.35em;\">\n",
       "    2023\n",
       "    <span style=\"font-size: 0.8em; font-weight: bold; line-height: 1; border-radius: 0.35em; vertical-align: middle; margin-left: 0.5rem\">DATE</span>\n",
       "</mark>\n",
       " \n",
       "<mark class=\"entity\" style=\"background: #ffeb80; padding: 0.45em 0.6em; margin: 0 0.25em; line-height: 1; border-radius: 0.35em;\">\n",
       "    Cricket World Cup\n",
       "    <span style=\"font-size: 0.8em; font-weight: bold; line-height: 1; border-radius: 0.35em; vertical-align: middle; margin-left: 0.5rem\">EVENT</span>\n",
       "</mark>\n",
       " will be hosted by \n",
       "<mark class=\"entity\" style=\"background: #feca74; padding: 0.45em 0.6em; margin: 0 0.25em; line-height: 1; border-radius: 0.35em;\">\n",
       "    India\n",
       "    <span style=\"font-size: 0.8em; font-weight: bold; line-height: 1; border-radius: 0.35em; vertical-align: middle; margin-left: 0.5rem\">GPE</span>\n",
       "</mark>\n",
       "</div></span>"
      ],
      "text/plain": [
       "<IPython.core.display.HTML object>"
      ]
     },
     "metadata": {},
     "output_type": "display_data"
    }
   ],
   "source": [
    "displacy.render(doc,style=\"ent\")"
   ]
  },
  {
   "cell_type": "code",
   "execution_count": 51,
   "id": "0e43ee2d-ed5f-4dab-9a89-2d5935dd299c",
   "metadata": {},
   "outputs": [],
   "source": [
    "# Medium Model has Word Vectors\n",
    "# Numerical Representation of Words in the form of vectors"
   ]
  },
  {
   "cell_type": "code",
   "execution_count": 49,
   "id": "9df54c6f-eb6b-49bb-984f-ff3b5196e772",
   "metadata": {},
   "outputs": [
    {
     "name": "stdout",
     "output_type": "stream",
     "text": [
      "Collecting en-core-web-md==3.6.0\n",
      "  Downloading https://github.com/explosion/spacy-models/releases/download/en_core_web_md-3.6.0/en_core_web_md-3.6.0-py3-none-any.whl (42.8 MB)\n",
      "\u001b[2K     \u001b[90m━━━━━━━━━━━━━━━━━━━━━━━━━━━━━━━━━━━━━━━━\u001b[0m \u001b[32m42.8/42.8 MB\u001b[0m \u001b[31m1.3 MB/s\u001b[0m eta \u001b[36m0:00:00\u001b[0m00:01\u001b[0m00:01\u001b[0m\n",
      "\u001b[?25hRequirement already satisfied: spacy<3.7.0,>=3.6.0 in /Users/sunilnair/opt/anaconda3/lib/python3.9/site-packages (from en-core-web-md==3.6.0) (3.6.0)\n",
      "Requirement already satisfied: preshed<3.1.0,>=3.0.2 in /Users/sunilnair/opt/anaconda3/lib/python3.9/site-packages (from spacy<3.7.0,>=3.6.0->en-core-web-md==3.6.0) (3.0.8)\n",
      "Requirement already satisfied: srsly<3.0.0,>=2.4.3 in /Users/sunilnair/opt/anaconda3/lib/python3.9/site-packages (from spacy<3.7.0,>=3.6.0->en-core-web-md==3.6.0) (2.4.7)\n",
      "Requirement already satisfied: pydantic!=1.8,!=1.8.1,<1.11.0,>=1.7.4 in /Users/sunilnair/opt/anaconda3/lib/python3.9/site-packages (from spacy<3.7.0,>=3.6.0->en-core-web-md==3.6.0) (1.10.11)\n",
      "Requirement already satisfied: langcodes<4.0.0,>=3.2.0 in /Users/sunilnair/opt/anaconda3/lib/python3.9/site-packages (from spacy<3.7.0,>=3.6.0->en-core-web-md==3.6.0) (3.3.0)\n",
      "Requirement already satisfied: wasabi<1.2.0,>=0.9.1 in /Users/sunilnair/opt/anaconda3/lib/python3.9/site-packages (from spacy<3.7.0,>=3.6.0->en-core-web-md==3.6.0) (1.1.2)\n",
      "Requirement already satisfied: requests<3.0.0,>=2.13.0 in /Users/sunilnair/opt/anaconda3/lib/python3.9/site-packages (from spacy<3.7.0,>=3.6.0->en-core-web-md==3.6.0) (2.23.0)\n",
      "Requirement already satisfied: thinc<8.2.0,>=8.1.8 in /Users/sunilnair/opt/anaconda3/lib/python3.9/site-packages (from spacy<3.7.0,>=3.6.0->en-core-web-md==3.6.0) (8.1.10)\n",
      "Requirement already satisfied: murmurhash<1.1.0,>=0.28.0 in /Users/sunilnair/opt/anaconda3/lib/python3.9/site-packages (from spacy<3.7.0,>=3.6.0->en-core-web-md==3.6.0) (1.0.9)\n",
      "Requirement already satisfied: spacy-legacy<3.1.0,>=3.0.11 in /Users/sunilnair/opt/anaconda3/lib/python3.9/site-packages (from spacy<3.7.0,>=3.6.0->en-core-web-md==3.6.0) (3.0.12)\n",
      "Requirement already satisfied: pathy>=0.10.0 in /Users/sunilnair/opt/anaconda3/lib/python3.9/site-packages (from spacy<3.7.0,>=3.6.0->en-core-web-md==3.6.0) (0.10.2)\n",
      "Requirement already satisfied: packaging>=20.0 in /Users/sunilnair/opt/anaconda3/lib/python3.9/site-packages (from spacy<3.7.0,>=3.6.0->en-core-web-md==3.6.0) (21.0)\n",
      "Requirement already satisfied: cymem<2.1.0,>=2.0.2 in /Users/sunilnair/opt/anaconda3/lib/python3.9/site-packages (from spacy<3.7.0,>=3.6.0->en-core-web-md==3.6.0) (2.0.7)\n",
      "Requirement already satisfied: spacy-loggers<2.0.0,>=1.0.0 in /Users/sunilnair/opt/anaconda3/lib/python3.9/site-packages (from spacy<3.7.0,>=3.6.0->en-core-web-md==3.6.0) (1.0.4)\n",
      "Requirement already satisfied: numpy>=1.15.0 in /Users/sunilnair/opt/anaconda3/lib/python3.9/site-packages (from spacy<3.7.0,>=3.6.0->en-core-web-md==3.6.0) (1.25.1)\n",
      "Requirement already satisfied: jinja2 in /Users/sunilnair/opt/anaconda3/lib/python3.9/site-packages (from spacy<3.7.0,>=3.6.0->en-core-web-md==3.6.0) (2.10.3)\n",
      "Requirement already satisfied: catalogue<2.1.0,>=2.0.6 in /Users/sunilnair/opt/anaconda3/lib/python3.9/site-packages (from spacy<3.7.0,>=3.6.0->en-core-web-md==3.6.0) (2.0.8)\n",
      "Requirement already satisfied: smart-open<7.0.0,>=5.2.1 in /Users/sunilnair/opt/anaconda3/lib/python3.9/site-packages (from spacy<3.7.0,>=3.6.0->en-core-web-md==3.6.0) (6.3.0)\n",
      "Requirement already satisfied: typer<0.10.0,>=0.3.0 in /Users/sunilnair/opt/anaconda3/lib/python3.9/site-packages (from spacy<3.7.0,>=3.6.0->en-core-web-md==3.6.0) (0.9.0)\n",
      "Requirement already satisfied: tqdm<5.0.0,>=4.38.0 in /Users/sunilnair/opt/anaconda3/lib/python3.9/site-packages (from spacy<3.7.0,>=3.6.0->en-core-web-md==3.6.0) (4.62.3)\n",
      "Requirement already satisfied: setuptools in /Users/sunilnair/opt/anaconda3/lib/python3.9/site-packages (from spacy<3.7.0,>=3.6.0->en-core-web-md==3.6.0) (58.0.4)\n",
      "Requirement already satisfied: pyparsing>=2.0.2 in /Users/sunilnair/opt/anaconda3/lib/python3.9/site-packages (from packaging>=20.0->spacy<3.7.0,>=3.6.0->en-core-web-md==3.6.0) (3.0.4)\n",
      "Requirement already satisfied: typing-extensions>=4.2.0 in /Users/sunilnair/opt/anaconda3/lib/python3.9/site-packages (from pydantic!=1.8,!=1.8.1,<1.11.0,>=1.7.4->spacy<3.7.0,>=3.6.0->en-core-web-md==3.6.0) (4.7.1)\n",
      "Requirement already satisfied: certifi>=2017.4.17 in /Users/sunilnair/opt/anaconda3/lib/python3.9/site-packages (from requests<3.0.0,>=2.13.0->spacy<3.7.0,>=3.6.0->en-core-web-md==3.6.0) (2021.10.8)\n",
      "Requirement already satisfied: urllib3!=1.25.0,!=1.25.1,<1.26,>=1.21.1 in /Users/sunilnair/opt/anaconda3/lib/python3.9/site-packages (from requests<3.0.0,>=2.13.0->spacy<3.7.0,>=3.6.0->en-core-web-md==3.6.0) (1.25.11)\n",
      "Requirement already satisfied: chardet<4,>=3.0.2 in /Users/sunilnair/opt/anaconda3/lib/python3.9/site-packages (from requests<3.0.0,>=2.13.0->spacy<3.7.0,>=3.6.0->en-core-web-md==3.6.0) (3.0.4)\n",
      "Requirement already satisfied: idna<3,>=2.5 in /Users/sunilnair/opt/anaconda3/lib/python3.9/site-packages (from requests<3.0.0,>=2.13.0->spacy<3.7.0,>=3.6.0->en-core-web-md==3.6.0) (2.8)\n",
      "Requirement already satisfied: confection<1.0.0,>=0.0.1 in /Users/sunilnair/opt/anaconda3/lib/python3.9/site-packages (from thinc<8.2.0,>=8.1.8->spacy<3.7.0,>=3.6.0->en-core-web-md==3.6.0) (0.1.0)\n",
      "Requirement already satisfied: blis<0.8.0,>=0.7.8 in /Users/sunilnair/opt/anaconda3/lib/python3.9/site-packages (from thinc<8.2.0,>=8.1.8->spacy<3.7.0,>=3.6.0->en-core-web-md==3.6.0) (0.7.9)\n",
      "Requirement already satisfied: click<9.0.0,>=7.1.1 in /Users/sunilnair/opt/anaconda3/lib/python3.9/site-packages (from typer<0.10.0,>=0.3.0->spacy<3.7.0,>=3.6.0->en-core-web-md==3.6.0) (7.1.2)\n",
      "Requirement already satisfied: MarkupSafe>=0.23 in /Users/sunilnair/opt/anaconda3/lib/python3.9/site-packages (from jinja2->spacy<3.7.0,>=3.6.0->en-core-web-md==3.6.0) (0.23)\n",
      "Installing collected packages: en-core-web-md\n",
      "Successfully installed en-core-web-md-3.6.0\n",
      "\n",
      "\u001b[1m[\u001b[0m\u001b[34;49mnotice\u001b[0m\u001b[1;39;49m]\u001b[0m\u001b[39;49m A new release of pip available: \u001b[0m\u001b[31;49m22.3.1\u001b[0m\u001b[39;49m -> \u001b[0m\u001b[32;49m23.1.2\u001b[0m\n",
      "\u001b[1m[\u001b[0m\u001b[34;49mnotice\u001b[0m\u001b[1;39;49m]\u001b[0m\u001b[39;49m To update, run: \u001b[0m\u001b[32;49mpip install --upgrade pip\u001b[0m\n",
      "\u001b[38;5;2m✔ Download and installation successful\u001b[0m\n",
      "You can now load the package via spacy.load('en_core_web_md')\n"
     ]
    }
   ],
   "source": [
    "!python -m spacy download en_core_web_md"
   ]
  },
  {
   "cell_type": "code",
   "execution_count": 54,
   "id": "4436c326-4985-4715-a742-a1b0b7b0e1d1",
   "metadata": {},
   "outputs": [
    {
     "data": {
      "text/plain": [
       "array([ 0.35890368, -0.16271242,  0.20912889, -0.20919901, -0.06066184,\n",
       "        0.03035078,  0.27560207, -0.06766222,  0.0935057 ,  0.18896103,\n",
       "        0.01711656,  0.06415585, -0.1723149 ,  0.14886455, -0.21558268,\n",
       "       -0.14486037, -0.06156819,  0.02636736, -0.1098373 ,  0.0296547 ,\n",
       "       -0.4440996 ,  0.11933516,  0.00134941, -0.339413  ,  0.00200109,\n",
       "       -0.30598047,  0.05316748, -0.0790891 ,  0.24255942,  0.32229388,\n",
       "       -0.01376798,  0.118565  ,  0.36762503, -0.21615063,  0.0323898 ,\n",
       "       -0.17759195, -0.00795953,  0.05055583, -0.2302437 ,  0.06148341,\n",
       "       -0.22314955,  0.293635  , -0.27913988,  0.18758985,  0.08979087,\n",
       "        0.22825968, -0.18438338,  0.17707743,  0.26175582, -0.01007985,\n",
       "       -0.40695184,  0.12417703, -0.11023957,  0.13562833,  0.02028113,\n",
       "        0.09974566, -0.2321743 ,  0.02460547,  0.10044649, -0.20556335,\n",
       "        0.03435546, -0.5714882 ,  0.05441915, -0.173794  ,  0.00724508,\n",
       "        0.00816868,  0.1330781 , -0.42415947,  0.35861012, -0.02465701,\n",
       "       -0.04919867,  0.23549503,  0.03514076, -0.12870134, -0.06120403,\n",
       "       -0.3829903 , -0.00881015, -0.07268582, -0.01720382, -0.15763733,\n",
       "       -0.06558706, -0.24915965, -0.24337897, -0.25576246, -0.00294784,\n",
       "        0.08333115,  0.05551428,  0.32674754, -0.17533506,  0.5431698 ,\n",
       "        0.05746823, -0.07582125,  0.68808323,  0.32299817, -0.42464066,\n",
       "        0.17128623], dtype=float32)"
      ]
     },
     "execution_count": 54,
     "metadata": {},
     "output_type": "execute_result"
    }
   ],
   "source": [
    "sentence1.vector"
   ]
  },
  {
   "cell_type": "code",
   "execution_count": 93,
   "id": "526f95b5-d00e-4f8c-8299-0f16ca02b1b0",
   "metadata": {},
   "outputs": [],
   "source": [
    "nlp = spacy.load(\"en_core_web_md\")"
   ]
  },
  {
   "cell_type": "code",
   "execution_count": 94,
   "id": "93eebdc1-1e19-43d7-941b-388cd66883e8",
   "metadata": {},
   "outputs": [],
   "source": [
    "doc = nlp('''Cricket has been the most popular sport in India, it is played almost everywhere in the country[4][unreliable source?] and a prominent part of the country. The Board of Control for Cricket in India (BCCI) is the governing body of Indian cricket and conduct all domestic tournaments and select the players for India national cricket team and India women's national cricket team.\n",
    "\n",
    "Domestic competitions in India annually organized by BCCI include the Ranji Trophy, the Duleep Trophy, the Vijay Hazare Trophy, the Deodhar Trophy, the Irani Trophy and the NKP Salve Challenger Trophy. The Indian Premier League, a Twenty20 tournament where various city-based franchises compete in a style similar to American football, is one of the biggest sporting leagues and the biggest cricketing league in the world. In 2023 it launched a similar league for females, the Women's Premier League (WPL).\n",
    "\n",
    "International cricket in India does not follow a consistent pattern, unlike other cricketing teams such as England, who tour other countries during the winter and play at home during the summer. The Indian cricket team is one of the most successful cricket teams in the world, having won 2 ICC World Cups, 1 ICC World Twenty20, 2 ICC Champion's Trophies and finished runners up in the inaugural edition of the ICC World Test Championship. The 2021 ICC Men's T20 World Cup, was initially meant to be hosted by India. However, after the escalation of the COVID-19 Pandemic in India, the tournament was moved by the ICC to the United Arab Emirates. The 2023 Cricket World Cup will be hosted by India''')"
   ]
  },
  {
   "cell_type": "code",
   "execution_count": 95,
   "id": "37028d33-d07b-4fd7-98d6-01fbb40d29a5",
   "metadata": {},
   "outputs": [],
   "source": [
    "sentence2 = list(doc.sents)[0]"
   ]
  },
  {
   "cell_type": "code",
   "execution_count": 84,
   "id": "0db843cd-4114-47f1-b003-c49a519a993e",
   "metadata": {},
   "outputs": [
    {
     "name": "stdout",
     "output_type": "stream",
     "text": [
      "Cricket has been the most popular sport in India, it is played almost everywhere in the country[4][unreliable source?] and a prominent part of the country.\n"
     ]
    }
   ],
   "source": [
    "print(sentence2)"
   ]
  },
  {
   "cell_type": "code",
   "execution_count": 85,
   "id": "c80110fc-e75b-4b7b-a91a-894467b75574",
   "metadata": {},
   "outputs": [],
   "source": [
    "# How the Word County"
   ]
  },
  {
   "cell_type": "code",
   "execution_count": 86,
   "id": "8d4414e0-eea7-458f-933b-bcd3b6c4f7bb",
   "metadata": {},
   "outputs": [],
   "source": [
    "import numpy as np"
   ]
  },
  {
   "cell_type": "code",
   "execution_count": 113,
   "id": "3abade3b-31e3-4939-8fb4-5f1974a36a7c",
   "metadata": {},
   "outputs": [],
   "source": [
    "your_word = \"breakfast\""
   ]
  },
  {
   "cell_type": "code",
   "execution_count": 115,
   "id": "45b9a375-1885-46ec-bee5-d32ca1a1116e",
   "metadata": {},
   "outputs": [
    {
     "data": {
      "text/plain": [
       "(array([[15981607639113716751,  8869128298214175138, 17092812801561910730,\n",
       "          6119697410033091711, 11752932193150848035,  8833592706648090133,\n",
       "          8640763535512703744,  1012341554490024974, 15650559750608259320,\n",
       "         13556672019339779060, 16252485431428339663,  2306090229986738985,\n",
       "         10981249691051785531, 14404572306436076204, 17502178374224329708,\n",
       "         13277673080900090288, 13071974745762384372, 11549930039359342423,\n",
       "         12399415755182795362, 18111588618986575719]], dtype=uint64),\n",
       " array([[ 3317,  2888,  3319,  1837, 17127, 10614,  4624,  9333, 10502,\n",
       "         12860, 17084,  8708, 17339,  8651,  3437, 15608,  4530,  1632,\n",
       "         14974,  5069]], dtype=int32),\n",
       " array([[1.    , 0.7939, 0.7588, 0.747 , 0.7264, 0.7257, 0.7138, 0.708 ,\n",
       "         0.6978, 0.695 , 0.6829, 0.6695, 0.6462, 0.6375, 0.6349, 0.6293,\n",
       "         0.6249, 0.6223, 0.6179, 0.611 ]], dtype=float32))"
      ]
     },
     "execution_count": 115,
     "metadata": {},
     "output_type": "execute_result"
    }
   ],
   "source": [
    "\n",
    "\n",
    "ms = nlp.vocab.vectors.most_similar(np.asarray([nlp.vocab.vectors[nlp.vocab.strings[your_word]]]),n=20)\n",
    "ms"
   ]
  },
  {
   "cell_type": "code",
   "execution_count": 88,
   "id": "cd57ad7a-3ad2-4497-aed3-91b6508ce1a7",
   "metadata": {},
   "outputs": [
    {
     "data": {
      "text/plain": [
       "12290671265767728302"
      ]
     },
     "execution_count": 88,
     "metadata": {},
     "output_type": "execute_result"
    }
   ],
   "source": [
    "nlp.vocab.strings[your_word]"
   ]
  },
  {
   "cell_type": "code",
   "execution_count": 89,
   "id": "5f1dfe22-0676-4c05-863b-f85cd99e4f4c",
   "metadata": {},
   "outputs": [
    {
     "data": {
      "text/plain": [
       "-0.41393"
      ]
     },
     "execution_count": 89,
     "metadata": {},
     "output_type": "execute_result"
    }
   ],
   "source": [
    "nlp.vocab.vectors[nlp.vocab.strings[your_word]][0]"
   ]
  },
  {
   "cell_type": "code",
   "execution_count": 90,
   "id": "54751e6b-532f-482d-a8cb-e7aa076dd77a",
   "metadata": {},
   "outputs": [
    {
     "data": {
      "text/plain": [
       "array(-0.41393, dtype=float32)"
      ]
     },
     "execution_count": 90,
     "metadata": {},
     "output_type": "execute_result"
    }
   ],
   "source": [
    "np.asarray(nlp.vocab.vectors[nlp.vocab.strings[your_word]][0])"
   ]
  },
  {
   "cell_type": "code",
   "execution_count": 91,
   "id": "75e6df92-2700-449c-a81a-086e19e48174",
   "metadata": {},
   "outputs": [
    {
     "name": "stdout",
     "output_type": "stream",
     "text": [
      "(array([[12389239844680878404,  1435501296278296988,  3205366385982613224,\n",
      "        10101261077591962824, 10067128433980916117, 13467190378500458811,\n",
      "         7523086094447079607,  4411440909759659592,  3830018849180425586,\n",
      "          769100778973147158]], dtype=uint64), array([[  351,  1831,   919,  8453,  4341, 10117,  1955, 14035,   984,\n",
      "        17926]], dtype=int32), array([[1.    , 0.8009, 0.7833, 0.773 , 0.7341, 0.712 , 0.6996, 0.6951,\n",
      "        0.6934, 0.6924]], dtype=float32))\n",
      "(array([[12389239844680878404,  1435501296278296988,  3205366385982613224,\n",
      "        10101261077591962824, 10067128433980916117, 13467190378500458811,\n",
      "         7523086094447079607,  4411440909759659592,  3830018849180425586,\n",
      "          769100778973147158]], dtype=uint64), array([[  351,  1831,   919,  8453,  4341, 10117,  1955, 14035,   984,\n",
      "        17926]], dtype=int32), array([[1.    , 0.8009, 0.7833, 0.773 , 0.7341, 0.712 , 0.6996, 0.6951,\n",
      "        0.6934, 0.6924]], dtype=float32))\n",
      "(array([[12389239844680878404,  1435501296278296988,  3205366385982613224,\n",
      "        10101261077591962824, 10067128433980916117, 13467190378500458811,\n",
      "         7523086094447079607,  4411440909759659592,  3830018849180425586,\n",
      "          769100778973147158]], dtype=uint64), array([[  351,  1831,   919,  8453,  4341, 10117,  1955, 14035,   984,\n",
      "        17926]], dtype=int32), array([[1.    , 0.8009, 0.7833, 0.773 , 0.7341, 0.712 , 0.6996, 0.6951,\n",
      "        0.6934, 0.6924]], dtype=float32))\n"
     ]
    }
   ],
   "source": [
    "for w in ms:\n",
    "    print(ms)"
   ]
  },
  {
   "cell_type": "code",
   "execution_count": 116,
   "id": "01ba0075-55e1-44ea-b4ce-1f4c36b59d0b",
   "metadata": {},
   "outputs": [
    {
     "name": "stdout",
     "output_type": "stream",
     "text": [
      "['breakfasting', 'lunchmeat', 'Ameal', 'dinner-', 'ALOX5', 'Hais', 'mealtimes', 'kanack', 'Krunchies', 'Quiches', 'scuppers', 'APHC', 'ragamuffins', 'chaffle', 'delitto', 'bouchons', 'Vrinks', 'cofferdams', 'Suppers', 'dishrag']\n"
     ]
    }
   ],
   "source": [
    "words = [nlp.vocab.strings[w] for w in ms[0][0]]\n",
    "   \n",
    "print(words)"
   ]
  },
  {
   "cell_type": "markdown",
   "id": "d9f39eff-6a7f-42bb-92cc-f3ff8a92d095",
   "metadata": {},
   "source": [
    "## Document Similarity\n",
    "It find similarities using Word Embeddings"
   ]
  },
  {
   "cell_type": "code",
   "execution_count": 118,
   "id": "3bea42c7-5318-4a22-a795-4b71a448cab0",
   "metadata": {},
   "outputs": [],
   "source": [
    "doc1 = nlp(\"I like salty food\")\n",
    "doc2 = nlp(\"I like sugar in food\")"
   ]
  },
  {
   "cell_type": "code",
   "execution_count": 119,
   "id": "c090d648-0112-4210-aa87-cd1b92e53c93",
   "metadata": {},
   "outputs": [
    {
     "name": "stdout",
     "output_type": "stream",
     "text": [
      "I like salty food <--> I like sugar in food 0.8287711390180229\n"
     ]
    }
   ],
   "source": [
    "print(doc1,\"<-->\",doc2,doc1.similarity(doc2))"
   ]
  },
  {
   "cell_type": "code",
   "execution_count": 121,
   "id": "5062545a-ca01-4cde-b514-35609d915a1c",
   "metadata": {},
   "outputs": [],
   "source": [
    "doc3 = nlp(\"It is an awesome day right now\")"
   ]
  },
  {
   "cell_type": "code",
   "execution_count": 122,
   "id": "f8cc6b6b-e15b-4fcb-ab54-bbc7fe32c985",
   "metadata": {},
   "outputs": [
    {
     "name": "stdout",
     "output_type": "stream",
     "text": [
      "I like salty food <--> I like sugar in food 0.3466165069475381\n"
     ]
    }
   ],
   "source": [
    "print(doc1,\"<-->\",doc2,doc1.similarity(doc3))"
   ]
  },
  {
   "cell_type": "code",
   "execution_count": 123,
   "id": "59980272-893c-43af-971c-cedd222feaeb",
   "metadata": {},
   "outputs": [],
   "source": [
    "# Apples, Oranges and Burgers are different"
   ]
  },
  {
   "cell_type": "code",
   "execution_count": 130,
   "id": "e7dedfe8-2a67-4708-a3e7-b272a5dcdc13",
   "metadata": {},
   "outputs": [],
   "source": [
    "doc6=nlp(\"rice\")\n",
    "doc7=nlp(\"dal\")"
   ]
  },
  {
   "cell_type": "code",
   "execution_count": 131,
   "id": "59932f5c-4c93-474c-9aa1-164a33648cff",
   "metadata": {},
   "outputs": [
    {
     "name": "stdout",
     "output_type": "stream",
     "text": [
      "rice <--> dal 0.6585074001019197\n"
     ]
    }
   ],
   "source": [
    "print(doc6,\"<-->\",doc7,doc6.similarity(doc7))"
   ]
  },
  {
   "cell_type": "markdown",
   "id": "50ec9bf9-7673-4df3-8e19-6eaac3c29f8f",
   "metadata": {},
   "source": [
    "---\n",
    "# Pipeline\n",
    "## Spacy Pipeline for NER"
   ]
  },
  {
   "cell_type": "code",
   "execution_count": 137,
   "id": "b8b5f943-9506-42dd-b811-513827132460",
   "metadata": {},
   "outputs": [],
   "source": [
    "nlp = spacy.blank(\"en\")"
   ]
  },
  {
   "cell_type": "code",
   "execution_count": 139,
   "id": "b2536830-b299-4b44-bb88-129617250e1d",
   "metadata": {},
   "outputs": [
    {
     "data": {
      "text/plain": [
       "<spacy.pipeline.sentencizer.Sentencizer at 0x7fd16374a640>"
      ]
     },
     "execution_count": 139,
     "metadata": {},
     "output_type": "execute_result"
    }
   ],
   "source": [
    "nlp.add_pipe(\"sentencizer\")"
   ]
  },
  {
   "cell_type": "code",
   "execution_count": 140,
   "id": "6a474b61-da96-44e9-a59e-c597f415d783",
   "metadata": {},
   "outputs": [
    {
     "data": {
      "text/plain": [
       "{'summary': {'sentencizer': {'assigns': ['token.is_sent_start', 'doc.sents'],\n",
       "   'requires': [],\n",
       "   'scores': ['sents_f', 'sents_p', 'sents_r'],\n",
       "   'retokenizes': False}},\n",
       " 'problems': {'sentencizer': []},\n",
       " 'attrs': {'doc.sents': {'assigns': ['sentencizer'], 'requires': []},\n",
       "  'token.is_sent_start': {'assigns': ['sentencizer'], 'requires': []}}}"
      ]
     },
     "execution_count": 140,
     "metadata": {},
     "output_type": "execute_result"
    }
   ],
   "source": [
    "nlp.analyze_pipes()"
   ]
  },
  {
   "cell_type": "code",
   "execution_count": 135,
   "id": "682fae23-2786-4f5b-8a16-44ddc933b82e",
   "metadata": {},
   "outputs": [],
   "source": [
    "nlp2 = spacy.load(\"en_core_web_sm\")"
   ]
  },
  {
   "cell_type": "code",
   "execution_count": 136,
   "id": "ce0cd57d-cdbc-496a-b212-fa539a2495c3",
   "metadata": {},
   "outputs": [
    {
     "data": {
      "text/plain": [
       "{'summary': {'tok2vec': {'assigns': ['doc.tensor'],\n",
       "   'requires': [],\n",
       "   'scores': [],\n",
       "   'retokenizes': False},\n",
       "  'tagger': {'assigns': ['token.tag'],\n",
       "   'requires': [],\n",
       "   'scores': ['tag_acc'],\n",
       "   'retokenizes': False},\n",
       "  'parser': {'assigns': ['token.dep',\n",
       "    'token.head',\n",
       "    'token.is_sent_start',\n",
       "    'doc.sents'],\n",
       "   'requires': [],\n",
       "   'scores': ['dep_uas',\n",
       "    'dep_las',\n",
       "    'dep_las_per_type',\n",
       "    'sents_p',\n",
       "    'sents_r',\n",
       "    'sents_f'],\n",
       "   'retokenizes': False},\n",
       "  'attribute_ruler': {'assigns': [],\n",
       "   'requires': [],\n",
       "   'scores': [],\n",
       "   'retokenizes': False},\n",
       "  'lemmatizer': {'assigns': ['token.lemma'],\n",
       "   'requires': [],\n",
       "   'scores': ['lemma_acc'],\n",
       "   'retokenizes': False},\n",
       "  'ner': {'assigns': ['doc.ents', 'token.ent_iob', 'token.ent_type'],\n",
       "   'requires': [],\n",
       "   'scores': ['ents_f', 'ents_p', 'ents_r', 'ents_per_type'],\n",
       "   'retokenizes': False}},\n",
       " 'problems': {'tok2vec': [],\n",
       "  'tagger': [],\n",
       "  'parser': [],\n",
       "  'attribute_ruler': [],\n",
       "  'lemmatizer': [],\n",
       "  'ner': []},\n",
       " 'attrs': {'token.head': {'assigns': ['parser'], 'requires': []},\n",
       "  'token.ent_type': {'assigns': ['ner'], 'requires': []},\n",
       "  'token.lemma': {'assigns': ['lemmatizer'], 'requires': []},\n",
       "  'doc.tensor': {'assigns': ['tok2vec'], 'requires': []},\n",
       "  'doc.sents': {'assigns': ['parser'], 'requires': []},\n",
       "  'token.ent_iob': {'assigns': ['ner'], 'requires': []},\n",
       "  'token.tag': {'assigns': ['tagger'], 'requires': []},\n",
       "  'token.dep': {'assigns': ['parser'], 'requires': []},\n",
       "  'token.is_sent_start': {'assigns': ['parser'], 'requires': []},\n",
       "  'doc.ents': {'assigns': ['ner'], 'requires': []}}}"
      ]
     },
     "execution_count": 136,
     "metadata": {},
     "output_type": "execute_result"
    }
   ],
   "source": [
    "nlp2.analyze_pipes()"
   ]
  },
  {
   "cell_type": "markdown",
   "id": "35b0673f-0c52-43a0-93a8-63fc680a4622",
   "metadata": {},
   "source": [
    "---\n",
    "## Entity Ruler\n",
    "- Use when we need a label to be associated\n",
    "- Rules based approach\n",
    "- Extracting Text or formations of text\n",
    "- Rules should have a very high level of True Positives\n",
    "- Once the Entity identifies something, it will not change unless you override\n",
    "- Rule must be created an overridden"
   ]
  },
  {
   "cell_type": "code",
   "execution_count": 177,
   "id": "d70cac30-23f9-46cf-b741-5aa4350d46c8",
   "metadata": {},
   "outputs": [],
   "source": [
    "nlp = spacy.load(\"en_core_web_sm\")"
   ]
  },
  {
   "cell_type": "code",
   "execution_count": 164,
   "id": "7f1458e5-c50c-4428-8081-e4d67807b576",
   "metadata": {},
   "outputs": [],
   "source": [
    "text = \"Wen Chesterter is a place that Sunil likes. He lives in the West of Dubai\""
   ]
  },
  {
   "cell_type": "code",
   "execution_count": 183,
   "id": "7a83a9ba-cda0-4390-87ad-aa5502f08258",
   "metadata": {},
   "outputs": [],
   "source": [
    "doc = nlp(text)"
   ]
  },
  {
   "cell_type": "code",
   "execution_count": 184,
   "id": "61b83ff5-17e9-4435-a5a4-639effde713c",
   "metadata": {},
   "outputs": [
    {
     "name": "stdout",
     "output_type": "stream",
     "text": [
      "Wen Chesterter GPE\n",
      "Sunil GPE\n",
      "West LOC\n",
      "Dubai GPE\n"
     ]
    }
   ],
   "source": [
    "for ent in doc.ents:\n",
    "    print(ent.text,ent.label_)"
   ]
  },
  {
   "cell_type": "code",
   "execution_count": 178,
   "id": "d18c73da-1d5a-4702-920b-04b4f9adbf37",
   "metadata": {},
   "outputs": [],
   "source": [
    "ruler = nlp.add_pipe(\"entity_ruler\",before=\"ner\")"
   ]
  },
  {
   "cell_type": "code",
   "execution_count": 180,
   "id": "562055a2-0e34-49aa-94eb-45f2310676fc",
   "metadata": {},
   "outputs": [
    {
     "data": {
      "text/plain": [
       "{'summary': {'tok2vec': {'assigns': ['doc.tensor'],\n",
       "   'requires': [],\n",
       "   'scores': [],\n",
       "   'retokenizes': False},\n",
       "  'tagger': {'assigns': ['token.tag'],\n",
       "   'requires': [],\n",
       "   'scores': ['tag_acc'],\n",
       "   'retokenizes': False},\n",
       "  'parser': {'assigns': ['token.dep',\n",
       "    'token.head',\n",
       "    'token.is_sent_start',\n",
       "    'doc.sents'],\n",
       "   'requires': [],\n",
       "   'scores': ['dep_uas',\n",
       "    'dep_las',\n",
       "    'dep_las_per_type',\n",
       "    'sents_p',\n",
       "    'sents_r',\n",
       "    'sents_f'],\n",
       "   'retokenizes': False},\n",
       "  'attribute_ruler': {'assigns': [],\n",
       "   'requires': [],\n",
       "   'scores': [],\n",
       "   'retokenizes': False},\n",
       "  'lemmatizer': {'assigns': ['token.lemma'],\n",
       "   'requires': [],\n",
       "   'scores': ['lemma_acc'],\n",
       "   'retokenizes': False},\n",
       "  'entity_ruler': {'assigns': ['doc.ents', 'token.ent_type', 'token.ent_iob'],\n",
       "   'requires': [],\n",
       "   'scores': ['ents_f', 'ents_p', 'ents_r', 'ents_per_type'],\n",
       "   'retokenizes': False},\n",
       "  'ner': {'assigns': ['doc.ents', 'token.ent_iob', 'token.ent_type'],\n",
       "   'requires': [],\n",
       "   'scores': ['ents_f', 'ents_p', 'ents_r', 'ents_per_type'],\n",
       "   'retokenizes': False}},\n",
       " 'problems': {'tok2vec': [],\n",
       "  'tagger': [],\n",
       "  'parser': [],\n",
       "  'attribute_ruler': [],\n",
       "  'lemmatizer': [],\n",
       "  'entity_ruler': [],\n",
       "  'ner': []},\n",
       " 'attrs': {'token.head': {'assigns': ['parser'], 'requires': []},\n",
       "  'token.ent_type': {'assigns': ['entity_ruler', 'ner'], 'requires': []},\n",
       "  'token.lemma': {'assigns': ['lemmatizer'], 'requires': []},\n",
       "  'doc.tensor': {'assigns': ['tok2vec'], 'requires': []},\n",
       "  'doc.sents': {'assigns': ['parser'], 'requires': []},\n",
       "  'token.ent_iob': {'assigns': ['entity_ruler', 'ner'], 'requires': []},\n",
       "  'token.tag': {'assigns': ['tagger'], 'requires': []},\n",
       "  'token.dep': {'assigns': ['parser'], 'requires': []},\n",
       "  'token.is_sent_start': {'assigns': ['parser'], 'requires': []},\n",
       "  'doc.ents': {'assigns': ['entity_ruler', 'ner'], 'requires': []}}}"
      ]
     },
     "execution_count": 180,
     "metadata": {},
     "output_type": "execute_result"
    }
   ],
   "source": [
    "nlp.analyze_pipes()"
   ]
  },
  {
   "cell_type": "code",
   "execution_count": 181,
   "id": "b2192f09-46e4-4197-a613-8c6cbfb609c3",
   "metadata": {},
   "outputs": [],
   "source": [
    "patterns = [{\"label\":\"GPE\",\"pattern\":\"Wen Chesterter\"}]"
   ]
  },
  {
   "cell_type": "code",
   "execution_count": 182,
   "id": "94559a76-7e52-49d8-b170-fed74414c33f",
   "metadata": {},
   "outputs": [],
   "source": [
    "ruler.add_patterns(patterns)"
   ]
  },
  {
   "cell_type": "code",
   "execution_count": 185,
   "id": "f7cffc70-ad79-44a0-8be8-7e894eb6f948",
   "metadata": {},
   "outputs": [],
   "source": [
    "## Toponym - The issue of the same words for different context\n",
    "## Eg: Paris"
   ]
  },
  {
   "cell_type": "markdown",
   "id": "469b36f3-2912-406d-8c98-484ed36a9ca0",
   "metadata": {},
   "source": [
    "---"
   ]
  },
  {
   "cell_type": "markdown",
   "id": "f073cf13-2b3f-4069-8c03-91cbc8fa32a4",
   "metadata": {},
   "source": [
    "## Matcher\n",
    "- Uses Linguistic Features to extract information\n",
    "- Will store the information in the vocab of the nlp model\n",
    "- Not necessary an Entity Type\n",
    "\n",
    "https://spacy.io/api/matcher#_title"
   ]
  },
  {
   "cell_type": "code",
   "execution_count": 187,
   "id": "0de0a2e1-2333-425b-b723-ddf42c0cf170",
   "metadata": {},
   "outputs": [],
   "source": [
    "from spacy.matcher import Matcher"
   ]
  },
  {
   "cell_type": "code",
   "execution_count": 238,
   "id": "dfd1b97a-2240-48e8-8834-1b1605361d87",
   "metadata": {},
   "outputs": [],
   "source": [
    "nlp = spacy.load(\"en_core_web_sm\")"
   ]
  },
  {
   "cell_type": "code",
   "execution_count": 239,
   "id": "b7bd50f7-e4b3-47d8-82d5-b993a0a07e3b",
   "metadata": {},
   "outputs": [],
   "source": [
    "matcher = Matcher(nlp.vocab)\n",
    "pattern1 = [{\"LIKE_EMAIL\":True}]\n",
    "pattern2 = [{\"IS_DIGIT\":True}]\n",
    "matcher.add(\"EMAIL_ADDRESS\",[pattern1])\n",
    "matcher.add(\"DIGITS\",[pattern2])"
   ]
  },
  {
   "cell_type": "code",
   "execution_count": 240,
   "id": "114e0164-19d0-45ef-b6be-f496909807ea",
   "metadata": {},
   "outputs": [],
   "source": [
    "doc = nlp(\"this is an amaxing sunil@gmail.com 123\")\n",
    "matches = matcher(doc)"
   ]
  },
  {
   "cell_type": "code",
   "execution_count": 241,
   "id": "b6f8d9fb-b923-403b-b39c-a39559f9533f",
   "metadata": {},
   "outputs": [
    {
     "name": "stdout",
     "output_type": "stream",
     "text": [
      "[(16571425990740197027, 4, 5), (8243381992774708034, 5, 6)]\n"
     ]
    }
   ],
   "source": [
    "print(matches)\n",
    "# Lexeme, Start Token, End Token"
   ]
  },
  {
   "cell_type": "code",
   "execution_count": 242,
   "id": "f6eecb3a-7716-41fa-9d5c-cf8ad77f6f78",
   "metadata": {},
   "outputs": [
    {
     "name": "stdout",
     "output_type": "stream",
     "text": [
      "EMAIL_ADDRESS\n"
     ]
    }
   ],
   "source": [
    "print(nlp.vocab[matches[0][0]].text)"
   ]
  },
  {
   "cell_type": "code",
   "execution_count": 249,
   "id": "3cb56c5a-20db-4bd4-bb67-1a9d7f802dfd",
   "metadata": {},
   "outputs": [
    {
     "name": "stdout",
     "output_type": "stream",
     "text": [
      "sunil@gmail.com\n",
      "123\n"
     ]
    }
   ],
   "source": [
    "# Text from 4th to 5th Position\n",
    "# and text from 5th to 6th Position\n",
    "for match in matches:\n",
    "    print(doc[match[1]:match[2]])"
   ]
  },
  {
   "cell_type": "code",
   "execution_count": 231,
   "id": "fc950868-7021-48bd-afe8-2e4486ede100",
   "metadata": {},
   "outputs": [
    {
     "name": "stdout",
     "output_type": "stream",
     "text": [
      "IS_LOWER\n"
     ]
    }
   ],
   "source": [
    "print(nlp.vocab[matches[0][1]].text)"
   ]
  },
  {
   "cell_type": "markdown",
   "id": "a954c39f-83e6-4677-a630-e0aad4c9b57b",
   "metadata": {},
   "source": [
    "### Real World Case"
   ]
  },
  {
   "cell_type": "code",
   "execution_count": 232,
   "id": "8d676d83-2e76-4b0d-8c22-9b1e06da9c0a",
   "metadata": {},
   "outputs": [],
   "source": [
    "nlp = spacy.load(\"en_core_web_sm\")"
   ]
  },
  {
   "cell_type": "code",
   "execution_count": 234,
   "id": "41c45d2e-34aa-4137-9f71-51fec32d493d",
   "metadata": {},
   "outputs": [],
   "source": [
    "matcher = Matcher(nlp.vocab)\n",
    "pattern = [{\"POS\":\"PROPN\"}]\n",
    "matcher.add(\"Proper_Noun\",[pattern])\n",
    "\n",
    "doc = nlp('''Narendra Damodardas Modi (Gujarati: [ˈnəɾendɾə dɑmodəɾˈdɑs ˈmodiː] (listen); born 17 September 1950)[b] is an Indian politician who has served as the 14th Prime Minister of India since May 2014. Modi was the Chief Minister of Gujarat from 2001 to 2014 and is the Member of Parliament (MP) for Varanasi. He is a member of the Bharatiya Janata Party (BJP) and of the Rashtriya Swayamsevak Sangh (RSS), a right-wing Hindu nationalist paramilitary volunteer organisation. He is the longest-serving prime minister from outside the Indian National Congress.''')\n",
    "\n",
    "matches = matcher(doc)\n",
    "\n",
    "print(len(matches))\n",
    "\n",
    "for match in matches:\n",
    "    print(match,doc[match[1]:match[2]])"
   ]
  },
  {
   "cell_type": "code",
   "execution_count": 235,
   "id": "cbe5ec9e-26fb-417a-ba8f-f96b4dcf0a22",
   "metadata": {},
   "outputs": [
    {
     "name": "stdout",
     "output_type": "stream",
     "text": [
      "29\n"
     ]
    }
   ],
   "source": []
  },
  {
   "cell_type": "code",
   "execution_count": 236,
   "id": "d0e2b712-2746-4580-9608-8e9619ae645f",
   "metadata": {},
   "outputs": [
    {
     "name": "stdout",
     "output_type": "stream",
     "text": [
      "(1997218022679078014, 0, 1) Narendra\n",
      "(1997218022679078014, 1, 2) Damodardas\n",
      "(1997218022679078014, 2, 3) Modi\n",
      "(1997218022679078014, 4, 5) Gujarati\n",
      "(1997218022679078014, 17, 18) September\n",
      "(1997218022679078014, 30, 31) Prime\n",
      "(1997218022679078014, 31, 32) Minister\n",
      "(1997218022679078014, 33, 34) India\n",
      "(1997218022679078014, 35, 36) May\n",
      "(1997218022679078014, 38, 39) Modi\n",
      "(1997218022679078014, 41, 42) Chief\n",
      "(1997218022679078014, 42, 43) Minister\n",
      "(1997218022679078014, 44, 45) Gujarat\n",
      "(1997218022679078014, 52, 53) Member\n",
      "(1997218022679078014, 54, 55) Parliament\n",
      "(1997218022679078014, 56, 57) MP\n",
      "(1997218022679078014, 59, 60) Varanasi\n",
      "(1997218022679078014, 67, 68) Bharatiya\n",
      "(1997218022679078014, 68, 69) Janata\n",
      "(1997218022679078014, 69, 70) Party\n",
      "(1997218022679078014, 71, 72) BJP\n",
      "(1997218022679078014, 76, 77) Rashtriya\n",
      "(1997218022679078014, 77, 78) Swayamsevak\n",
      "(1997218022679078014, 78, 79) Sangh\n",
      "(1997218022679078014, 80, 81) RSS\n",
      "(1997218022679078014, 87, 88) Hindu\n",
      "(1997218022679078014, 104, 105) Indian\n",
      "(1997218022679078014, 105, 106) National\n",
      "(1997218022679078014, 106, 107) Congress\n"
     ]
    }
   ],
   "source": []
  },
  {
   "cell_type": "code",
   "execution_count": 250,
   "id": "652467de-2103-4d69-b1db-53abd48e50d6",
   "metadata": {},
   "outputs": [
    {
     "name": "stdout",
     "output_type": "stream",
     "text": [
      "43\n",
      "(1997218022679078014, 0, 1) Narendra\n",
      "(1997218022679078014, 0, 2) Narendra Damodardas\n",
      "(1997218022679078014, 1, 2) Damodardas\n",
      "(1997218022679078014, 0, 3) Narendra Damodardas Modi\n",
      "(1997218022679078014, 1, 3) Damodardas Modi\n",
      "(1997218022679078014, 2, 3) Modi\n",
      "(1997218022679078014, 4, 5) Gujarati\n",
      "(1997218022679078014, 17, 18) September\n",
      "(1997218022679078014, 30, 31) Prime\n",
      "(1997218022679078014, 30, 32) Prime Minister\n",
      "(1997218022679078014, 31, 32) Minister\n",
      "(1997218022679078014, 33, 34) India\n",
      "(1997218022679078014, 35, 36) May\n",
      "(1997218022679078014, 38, 39) Modi\n",
      "(1997218022679078014, 41, 42) Chief\n",
      "(1997218022679078014, 41, 43) Chief Minister\n",
      "(1997218022679078014, 42, 43) Minister\n",
      "(1997218022679078014, 44, 45) Gujarat\n",
      "(1997218022679078014, 52, 53) Member\n",
      "(1997218022679078014, 54, 55) Parliament\n",
      "(1997218022679078014, 56, 57) MP\n",
      "(1997218022679078014, 59, 60) Varanasi\n",
      "(1997218022679078014, 67, 68) Bharatiya\n",
      "(1997218022679078014, 67, 69) Bharatiya Janata\n",
      "(1997218022679078014, 68, 69) Janata\n",
      "(1997218022679078014, 67, 70) Bharatiya Janata Party\n",
      "(1997218022679078014, 68, 70) Janata Party\n",
      "(1997218022679078014, 69, 70) Party\n",
      "(1997218022679078014, 71, 72) BJP\n",
      "(1997218022679078014, 76, 77) Rashtriya\n",
      "(1997218022679078014, 76, 78) Rashtriya Swayamsevak\n",
      "(1997218022679078014, 77, 78) Swayamsevak\n",
      "(1997218022679078014, 76, 79) Rashtriya Swayamsevak Sangh\n",
      "(1997218022679078014, 77, 79) Swayamsevak Sangh\n",
      "(1997218022679078014, 78, 79) Sangh\n",
      "(1997218022679078014, 80, 81) RSS\n",
      "(1997218022679078014, 87, 88) Hindu\n",
      "(1997218022679078014, 104, 105) Indian\n",
      "(1997218022679078014, 104, 106) Indian National\n",
      "(1997218022679078014, 105, 106) National\n",
      "(1997218022679078014, 104, 107) Indian National Congress\n",
      "(1997218022679078014, 105, 107) National Congress\n",
      "(1997218022679078014, 106, 107) Congress\n"
     ]
    }
   ],
   "source": [
    "matcher = Matcher(nlp.vocab)\n",
    "pattern = [{\"POS\":\"PROPN\",\"OP\":\"+\"}]\n",
    "# Proper Noun that occurs one or more times\n",
    "matcher.add(\"Proper_Noun\",[pattern])\n",
    "\n",
    "doc = nlp('''Narendra Damodardas Modi (Gujarati: [ˈnəɾendɾə dɑmodəɾˈdɑs ˈmodiː] (listen); born 17 September 1950)[b] is an Indian politician who has served as the 14th Prime Minister of India since May 2014. Modi was the Chief Minister of Gujarat from 2001 to 2014 and is the Member of Parliament (MP) for Varanasi. He is a member of the Bharatiya Janata Party (BJP) and of the Rashtriya Swayamsevak Sangh (RSS), a right-wing Hindu nationalist paramilitary volunteer organisation. He is the longest-serving prime minister from outside the Indian National Congress.''')\n",
    "\n",
    "matches = matcher(doc)\n",
    "\n",
    "print(len(matches))\n",
    "\n",
    "for match in matches:\n",
    "    print(match,doc[match[1]:match[2]])"
   ]
  },
  {
   "cell_type": "code",
   "execution_count": 252,
   "id": "7907a6b3-072f-4243-94aa-22b6a624ca1e",
   "metadata": {},
   "outputs": [
    {
     "name": "stdout",
     "output_type": "stream",
     "text": [
      "19\n",
      "(1997218022679078014, 0, 3) Narendra Damodardas Modi\n",
      "(1997218022679078014, 4, 5) Gujarati\n",
      "(1997218022679078014, 17, 18) September\n",
      "(1997218022679078014, 30, 32) Prime Minister\n",
      "(1997218022679078014, 33, 34) India\n",
      "(1997218022679078014, 35, 36) May\n",
      "(1997218022679078014, 38, 39) Modi\n",
      "(1997218022679078014, 41, 43) Chief Minister\n",
      "(1997218022679078014, 44, 45) Gujarat\n",
      "(1997218022679078014, 52, 53) Member\n",
      "(1997218022679078014, 54, 55) Parliament\n",
      "(1997218022679078014, 56, 57) MP\n",
      "(1997218022679078014, 59, 60) Varanasi\n",
      "(1997218022679078014, 67, 70) Bharatiya Janata Party\n",
      "(1997218022679078014, 71, 72) BJP\n",
      "(1997218022679078014, 76, 79) Rashtriya Swayamsevak Sangh\n",
      "(1997218022679078014, 80, 81) RSS\n",
      "(1997218022679078014, 87, 88) Hindu\n",
      "(1997218022679078014, 104, 107) Indian National Congress\n"
     ]
    }
   ],
   "source": [
    "matcher = Matcher(nlp.vocab)\n",
    "pattern = [{\"POS\":\"PROPN\",\"OP\":\"+\"}]\n",
    "# Proper Noun that occurs one or more times\n",
    "matcher.add(\"Proper_Noun\",[pattern],greedy=\"LONGEST\")\n",
    "# We added a Gree\n",
    "\n",
    "doc = nlp('''Narendra Damodardas Modi (Gujarati: [ˈnəɾendɾə dɑmodəɾˈdɑs ˈmodiː] (listen); born 17 September 1950)[b] is an Indian politician who has served as the 14th Prime Minister of India since May 2014. Modi was the Chief Minister of Gujarat from 2001 to 2014 and is the Member of Parliament (MP) for Varanasi. He is a member of the Bharatiya Janata Party (BJP) and of the Rashtriya Swayamsevak Sangh (RSS), a right-wing Hindu nationalist paramilitary volunteer organisation. He is the longest-serving prime minister from outside the Indian National Congress.''')\n",
    "\n",
    "matches = matcher(doc)\n",
    "\n",
    "print(len(matches))\n",
    "\n",
    "# Adding a sorting\n",
    "matches.sort(key = lambda x: x[1])\n",
    "\n",
    "for match in matches:\n",
    "    print(match,doc[match[1]:match[2]])"
   ]
  },
  {
   "cell_type": "code",
   "execution_count": 253,
   "id": "41954a73-153b-4a8e-bb30-17579f75e7eb",
   "metadata": {},
   "outputs": [
    {
     "name": "stdout",
     "output_type": "stream",
     "text": [
      "0\n"
     ]
    }
   ],
   "source": [
    "matcher = Matcher(nlp.vocab)\n",
    "pattern = [{\"POS\":\"PROPN\",\"OP\":\"+\"},{'POS':'VERB'}]\n",
    "# Proper Noun that occurs one or more times\n",
    "matcher.add(\"Proper_Noun\",[pattern],greedy=\"LONGEST\")\n",
    "# We added a Gree\n",
    "\n",
    "doc = nlp('''Narendra Damodardas Modi (Gujarati: [ˈnəɾendɾə dɑmodəɾˈdɑs ˈmodiː] (listen); born 17 September 1950)[b] is an Indian politician who has served as the 14th Prime Minister of India since May 2014. Modi was the Chief Minister of Gujarat from 2001 to 2014 and is the Member of Parliament (MP) for Varanasi. He is a member of the Bharatiya Janata Party (BJP) and of the Rashtriya Swayamsevak Sangh (RSS), a right-wing Hindu nationalist paramilitary volunteer organisation. He is the longest-serving prime minister from outside the Indian National Congress.''')\n",
    "\n",
    "matches = matcher(doc)\n",
    "\n",
    "print(len(matches))\n",
    "\n",
    "# Adding a sorting\n",
    "matches.sort(key = lambda x: x[1])\n",
    "\n",
    "for match in matches:\n",
    "    print(match,doc[match[1]:match[2]])"
   ]
  },
  {
   "cell_type": "code",
   "execution_count": null,
   "id": "ab6aed66-709f-46cc-bdbf-bcc006691872",
   "metadata": {},
   "outputs": [],
   "source": []
  }
 ],
 "metadata": {
  "kernelspec": {
   "display_name": "Python 3 (ipykernel)",
   "language": "python",
   "name": "python3"
  },
  "language_info": {
   "codemirror_mode": {
    "name": "ipython",
    "version": 3
   },
   "file_extension": ".py",
   "mimetype": "text/x-python",
   "name": "python",
   "nbconvert_exporter": "python",
   "pygments_lexer": "ipython3",
   "version": "3.9.7"
  }
 },
 "nbformat": 4,
 "nbformat_minor": 5
}
